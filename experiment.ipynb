{
 "cells": [
  {
   "cell_type": "code",
   "id": "initial_id",
   "metadata": {
    "collapsed": true,
    "ExecuteTime": {
     "end_time": "2024-12-17T14:57:00.276073Z",
     "start_time": "2024-12-17T14:57:00.183885Z"
    }
   },
   "source": [
    "from sklearn.model_selection import train_test_split\n",
    "from sklearn.preprocessing import StandardScaler, OneHotEncoder, LabelEncoder\n",
    "import pandas as pd\n",
    "import numpy as np\n",
    "import pickle\n",
    "import keras_tuner as kt"
   ],
   "outputs": [],
   "execution_count": 228
  },
  {
   "metadata": {
    "ExecuteTime": {
     "end_time": "2024-12-17T07:58:09.713835Z",
     "start_time": "2024-12-17T07:58:09.695525Z"
    }
   },
   "cell_type": "code",
   "source": [
    "Bank_data = pd.read_csv('Churn_Modelling.csv')\n",
    "Bank_data.head()"
   ],
   "id": "f4361c1a79a1c80c",
   "outputs": [
    {
     "data": {
      "text/plain": [
       "   RowNumber  CustomerId   Surname  CreditScore Geography  Gender  Age  \\\n",
       "0          1    15634602  Hargrave          619    France  Female   42   \n",
       "1          2    15647311      Hill          608     Spain  Female   41   \n",
       "2          3    15619304      Onio          502    France  Female   42   \n",
       "3          4    15701354      Boni          699    France  Female   39   \n",
       "4          5    15737888  Mitchell          850     Spain  Female   43   \n",
       "\n",
       "   Tenure    Balance  NumOfProducts  HasCrCard  IsActiveMember  \\\n",
       "0       2       0.00              1          1               1   \n",
       "1       1   83807.86              1          0               1   \n",
       "2       8  159660.80              3          1               0   \n",
       "3       1       0.00              2          0               0   \n",
       "4       2  125510.82              1          1               1   \n",
       "\n",
       "   EstimatedSalary  Exited  \n",
       "0        101348.88       1  \n",
       "1        112542.58       0  \n",
       "2        113931.57       1  \n",
       "3         93826.63       0  \n",
       "4         79084.10       0  "
      ],
      "text/html": [
       "<div>\n",
       "<style scoped>\n",
       "    .dataframe tbody tr th:only-of-type {\n",
       "        vertical-align: middle;\n",
       "    }\n",
       "\n",
       "    .dataframe tbody tr th {\n",
       "        vertical-align: top;\n",
       "    }\n",
       "\n",
       "    .dataframe thead th {\n",
       "        text-align: right;\n",
       "    }\n",
       "</style>\n",
       "<table border=\"1\" class=\"dataframe\">\n",
       "  <thead>\n",
       "    <tr style=\"text-align: right;\">\n",
       "      <th></th>\n",
       "      <th>RowNumber</th>\n",
       "      <th>CustomerId</th>\n",
       "      <th>Surname</th>\n",
       "      <th>CreditScore</th>\n",
       "      <th>Geography</th>\n",
       "      <th>Gender</th>\n",
       "      <th>Age</th>\n",
       "      <th>Tenure</th>\n",
       "      <th>Balance</th>\n",
       "      <th>NumOfProducts</th>\n",
       "      <th>HasCrCard</th>\n",
       "      <th>IsActiveMember</th>\n",
       "      <th>EstimatedSalary</th>\n",
       "      <th>Exited</th>\n",
       "    </tr>\n",
       "  </thead>\n",
       "  <tbody>\n",
       "    <tr>\n",
       "      <th>0</th>\n",
       "      <td>1</td>\n",
       "      <td>15634602</td>\n",
       "      <td>Hargrave</td>\n",
       "      <td>619</td>\n",
       "      <td>France</td>\n",
       "      <td>Female</td>\n",
       "      <td>42</td>\n",
       "      <td>2</td>\n",
       "      <td>0.00</td>\n",
       "      <td>1</td>\n",
       "      <td>1</td>\n",
       "      <td>1</td>\n",
       "      <td>101348.88</td>\n",
       "      <td>1</td>\n",
       "    </tr>\n",
       "    <tr>\n",
       "      <th>1</th>\n",
       "      <td>2</td>\n",
       "      <td>15647311</td>\n",
       "      <td>Hill</td>\n",
       "      <td>608</td>\n",
       "      <td>Spain</td>\n",
       "      <td>Female</td>\n",
       "      <td>41</td>\n",
       "      <td>1</td>\n",
       "      <td>83807.86</td>\n",
       "      <td>1</td>\n",
       "      <td>0</td>\n",
       "      <td>1</td>\n",
       "      <td>112542.58</td>\n",
       "      <td>0</td>\n",
       "    </tr>\n",
       "    <tr>\n",
       "      <th>2</th>\n",
       "      <td>3</td>\n",
       "      <td>15619304</td>\n",
       "      <td>Onio</td>\n",
       "      <td>502</td>\n",
       "      <td>France</td>\n",
       "      <td>Female</td>\n",
       "      <td>42</td>\n",
       "      <td>8</td>\n",
       "      <td>159660.80</td>\n",
       "      <td>3</td>\n",
       "      <td>1</td>\n",
       "      <td>0</td>\n",
       "      <td>113931.57</td>\n",
       "      <td>1</td>\n",
       "    </tr>\n",
       "    <tr>\n",
       "      <th>3</th>\n",
       "      <td>4</td>\n",
       "      <td>15701354</td>\n",
       "      <td>Boni</td>\n",
       "      <td>699</td>\n",
       "      <td>France</td>\n",
       "      <td>Female</td>\n",
       "      <td>39</td>\n",
       "      <td>1</td>\n",
       "      <td>0.00</td>\n",
       "      <td>2</td>\n",
       "      <td>0</td>\n",
       "      <td>0</td>\n",
       "      <td>93826.63</td>\n",
       "      <td>0</td>\n",
       "    </tr>\n",
       "    <tr>\n",
       "      <th>4</th>\n",
       "      <td>5</td>\n",
       "      <td>15737888</td>\n",
       "      <td>Mitchell</td>\n",
       "      <td>850</td>\n",
       "      <td>Spain</td>\n",
       "      <td>Female</td>\n",
       "      <td>43</td>\n",
       "      <td>2</td>\n",
       "      <td>125510.82</td>\n",
       "      <td>1</td>\n",
       "      <td>1</td>\n",
       "      <td>1</td>\n",
       "      <td>79084.10</td>\n",
       "      <td>0</td>\n",
       "    </tr>\n",
       "  </tbody>\n",
       "</table>\n",
       "</div>"
      ]
     },
     "execution_count": 28,
     "metadata": {},
     "output_type": "execute_result"
    }
   ],
   "execution_count": 28
  },
  {
   "metadata": {
    "ExecuteTime": {
     "end_time": "2024-12-17T07:58:13.191368Z",
     "start_time": "2024-12-17T07:58:13.185969Z"
    }
   },
   "cell_type": "code",
   "source": [
    "#Dropping all the columns unrelated to training the model\n",
    "Bank_data = Bank_data.drop(['RowNumber','Surname','CustomerId'],axis=1)"
   ],
   "id": "da759a8c31f812eb",
   "outputs": [],
   "execution_count": 29
  },
  {
   "metadata": {
    "ExecuteTime": {
     "end_time": "2024-12-17T07:58:19.438205Z",
     "start_time": "2024-12-17T07:58:19.431509Z"
    }
   },
   "cell_type": "code",
   "source": "Bank_data.head()",
   "id": "ce190d3a2decd6ce",
   "outputs": [
    {
     "data": {
      "text/plain": [
       "   CreditScore Geography  Gender  Age  Tenure    Balance  NumOfProducts  \\\n",
       "0          619    France  Female   42       2       0.00              1   \n",
       "1          608     Spain  Female   41       1   83807.86              1   \n",
       "2          502    France  Female   42       8  159660.80              3   \n",
       "3          699    France  Female   39       1       0.00              2   \n",
       "4          850     Spain  Female   43       2  125510.82              1   \n",
       "\n",
       "   HasCrCard  IsActiveMember  EstimatedSalary  Exited  \n",
       "0          1               1        101348.88       1  \n",
       "1          0               1        112542.58       0  \n",
       "2          1               0        113931.57       1  \n",
       "3          0               0         93826.63       0  \n",
       "4          1               1         79084.10       0  "
      ],
      "text/html": [
       "<div>\n",
       "<style scoped>\n",
       "    .dataframe tbody tr th:only-of-type {\n",
       "        vertical-align: middle;\n",
       "    }\n",
       "\n",
       "    .dataframe tbody tr th {\n",
       "        vertical-align: top;\n",
       "    }\n",
       "\n",
       "    .dataframe thead th {\n",
       "        text-align: right;\n",
       "    }\n",
       "</style>\n",
       "<table border=\"1\" class=\"dataframe\">\n",
       "  <thead>\n",
       "    <tr style=\"text-align: right;\">\n",
       "      <th></th>\n",
       "      <th>CreditScore</th>\n",
       "      <th>Geography</th>\n",
       "      <th>Gender</th>\n",
       "      <th>Age</th>\n",
       "      <th>Tenure</th>\n",
       "      <th>Balance</th>\n",
       "      <th>NumOfProducts</th>\n",
       "      <th>HasCrCard</th>\n",
       "      <th>IsActiveMember</th>\n",
       "      <th>EstimatedSalary</th>\n",
       "      <th>Exited</th>\n",
       "    </tr>\n",
       "  </thead>\n",
       "  <tbody>\n",
       "    <tr>\n",
       "      <th>0</th>\n",
       "      <td>619</td>\n",
       "      <td>France</td>\n",
       "      <td>Female</td>\n",
       "      <td>42</td>\n",
       "      <td>2</td>\n",
       "      <td>0.00</td>\n",
       "      <td>1</td>\n",
       "      <td>1</td>\n",
       "      <td>1</td>\n",
       "      <td>101348.88</td>\n",
       "      <td>1</td>\n",
       "    </tr>\n",
       "    <tr>\n",
       "      <th>1</th>\n",
       "      <td>608</td>\n",
       "      <td>Spain</td>\n",
       "      <td>Female</td>\n",
       "      <td>41</td>\n",
       "      <td>1</td>\n",
       "      <td>83807.86</td>\n",
       "      <td>1</td>\n",
       "      <td>0</td>\n",
       "      <td>1</td>\n",
       "      <td>112542.58</td>\n",
       "      <td>0</td>\n",
       "    </tr>\n",
       "    <tr>\n",
       "      <th>2</th>\n",
       "      <td>502</td>\n",
       "      <td>France</td>\n",
       "      <td>Female</td>\n",
       "      <td>42</td>\n",
       "      <td>8</td>\n",
       "      <td>159660.80</td>\n",
       "      <td>3</td>\n",
       "      <td>1</td>\n",
       "      <td>0</td>\n",
       "      <td>113931.57</td>\n",
       "      <td>1</td>\n",
       "    </tr>\n",
       "    <tr>\n",
       "      <th>3</th>\n",
       "      <td>699</td>\n",
       "      <td>France</td>\n",
       "      <td>Female</td>\n",
       "      <td>39</td>\n",
       "      <td>1</td>\n",
       "      <td>0.00</td>\n",
       "      <td>2</td>\n",
       "      <td>0</td>\n",
       "      <td>0</td>\n",
       "      <td>93826.63</td>\n",
       "      <td>0</td>\n",
       "    </tr>\n",
       "    <tr>\n",
       "      <th>4</th>\n",
       "      <td>850</td>\n",
       "      <td>Spain</td>\n",
       "      <td>Female</td>\n",
       "      <td>43</td>\n",
       "      <td>2</td>\n",
       "      <td>125510.82</td>\n",
       "      <td>1</td>\n",
       "      <td>1</td>\n",
       "      <td>1</td>\n",
       "      <td>79084.10</td>\n",
       "      <td>0</td>\n",
       "    </tr>\n",
       "  </tbody>\n",
       "</table>\n",
       "</div>"
      ]
     },
     "execution_count": 30,
     "metadata": {},
     "output_type": "execute_result"
    }
   ],
   "execution_count": 30
  },
  {
   "metadata": {
    "ExecuteTime": {
     "end_time": "2024-12-17T07:59:03.275081Z",
     "start_time": "2024-12-17T07:59:03.270149Z"
    }
   },
   "cell_type": "code",
   "source": [
    "#Label encoding the Gender column\n",
    "Lb_encoder_Gen = LabelEncoder()\n",
    "Bank_data['Gender']=Lb_encoder_Gen.fit_transform(Bank_data['Gender'])\n"
   ],
   "id": "16b0351ca78fa2c6",
   "outputs": [],
   "execution_count": 32
  },
  {
   "metadata": {
    "ExecuteTime": {
     "end_time": "2024-12-17T07:59:10.689335Z",
     "start_time": "2024-12-17T07:59:10.681820Z"
    }
   },
   "cell_type": "code",
   "source": "Bank_data.head()",
   "id": "b24535d5c7d9dd8c",
   "outputs": [
    {
     "data": {
      "text/plain": [
       "   CreditScore Geography  Gender  Age  Tenure    Balance  NumOfProducts  \\\n",
       "0          619    France       0   42       2       0.00              1   \n",
       "1          608     Spain       0   41       1   83807.86              1   \n",
       "2          502    France       0   42       8  159660.80              3   \n",
       "3          699    France       0   39       1       0.00              2   \n",
       "4          850     Spain       0   43       2  125510.82              1   \n",
       "\n",
       "   HasCrCard  IsActiveMember  EstimatedSalary  Exited  \n",
       "0          1               1        101348.88       1  \n",
       "1          0               1        112542.58       0  \n",
       "2          1               0        113931.57       1  \n",
       "3          0               0         93826.63       0  \n",
       "4          1               1         79084.10       0  "
      ],
      "text/html": [
       "<div>\n",
       "<style scoped>\n",
       "    .dataframe tbody tr th:only-of-type {\n",
       "        vertical-align: middle;\n",
       "    }\n",
       "\n",
       "    .dataframe tbody tr th {\n",
       "        vertical-align: top;\n",
       "    }\n",
       "\n",
       "    .dataframe thead th {\n",
       "        text-align: right;\n",
       "    }\n",
       "</style>\n",
       "<table border=\"1\" class=\"dataframe\">\n",
       "  <thead>\n",
       "    <tr style=\"text-align: right;\">\n",
       "      <th></th>\n",
       "      <th>CreditScore</th>\n",
       "      <th>Geography</th>\n",
       "      <th>Gender</th>\n",
       "      <th>Age</th>\n",
       "      <th>Tenure</th>\n",
       "      <th>Balance</th>\n",
       "      <th>NumOfProducts</th>\n",
       "      <th>HasCrCard</th>\n",
       "      <th>IsActiveMember</th>\n",
       "      <th>EstimatedSalary</th>\n",
       "      <th>Exited</th>\n",
       "    </tr>\n",
       "  </thead>\n",
       "  <tbody>\n",
       "    <tr>\n",
       "      <th>0</th>\n",
       "      <td>619</td>\n",
       "      <td>France</td>\n",
       "      <td>0</td>\n",
       "      <td>42</td>\n",
       "      <td>2</td>\n",
       "      <td>0.00</td>\n",
       "      <td>1</td>\n",
       "      <td>1</td>\n",
       "      <td>1</td>\n",
       "      <td>101348.88</td>\n",
       "      <td>1</td>\n",
       "    </tr>\n",
       "    <tr>\n",
       "      <th>1</th>\n",
       "      <td>608</td>\n",
       "      <td>Spain</td>\n",
       "      <td>0</td>\n",
       "      <td>41</td>\n",
       "      <td>1</td>\n",
       "      <td>83807.86</td>\n",
       "      <td>1</td>\n",
       "      <td>0</td>\n",
       "      <td>1</td>\n",
       "      <td>112542.58</td>\n",
       "      <td>0</td>\n",
       "    </tr>\n",
       "    <tr>\n",
       "      <th>2</th>\n",
       "      <td>502</td>\n",
       "      <td>France</td>\n",
       "      <td>0</td>\n",
       "      <td>42</td>\n",
       "      <td>8</td>\n",
       "      <td>159660.80</td>\n",
       "      <td>3</td>\n",
       "      <td>1</td>\n",
       "      <td>0</td>\n",
       "      <td>113931.57</td>\n",
       "      <td>1</td>\n",
       "    </tr>\n",
       "    <tr>\n",
       "      <th>3</th>\n",
       "      <td>699</td>\n",
       "      <td>France</td>\n",
       "      <td>0</td>\n",
       "      <td>39</td>\n",
       "      <td>1</td>\n",
       "      <td>0.00</td>\n",
       "      <td>2</td>\n",
       "      <td>0</td>\n",
       "      <td>0</td>\n",
       "      <td>93826.63</td>\n",
       "      <td>0</td>\n",
       "    </tr>\n",
       "    <tr>\n",
       "      <th>4</th>\n",
       "      <td>850</td>\n",
       "      <td>Spain</td>\n",
       "      <td>0</td>\n",
       "      <td>43</td>\n",
       "      <td>2</td>\n",
       "      <td>125510.82</td>\n",
       "      <td>1</td>\n",
       "      <td>1</td>\n",
       "      <td>1</td>\n",
       "      <td>79084.10</td>\n",
       "      <td>0</td>\n",
       "    </tr>\n",
       "  </tbody>\n",
       "</table>\n",
       "</div>"
      ]
     },
     "execution_count": 33,
     "metadata": {},
     "output_type": "execute_result"
    }
   ],
   "execution_count": 33
  },
  {
   "metadata": {
    "ExecuteTime": {
     "end_time": "2024-12-17T08:02:18.440058Z",
     "start_time": "2024-12-17T08:02:18.431753Z"
    }
   },
   "cell_type": "code",
   "source": [
    "#One hot encoding on Geography column\n",
    "ohe_encoder_geo = OneHotEncoder()\n",
    "geo_encoder = ohe_encoder_geo.fit_transform(Bank_data[['Geography']]).toarray()\n",
    "geo_encoder"
   ],
   "id": "818fcad59d65342c",
   "outputs": [
    {
     "data": {
      "text/plain": [
       "array([[1., 0., 0.],\n",
       "       [0., 0., 1.],\n",
       "       [1., 0., 0.],\n",
       "       ...,\n",
       "       [1., 0., 0.],\n",
       "       [0., 1., 0.],\n",
       "       [1., 0., 0.]])"
      ]
     },
     "execution_count": 35,
     "metadata": {},
     "output_type": "execute_result"
    }
   ],
   "execution_count": 35
  },
  {
   "metadata": {
    "ExecuteTime": {
     "end_time": "2024-12-17T08:03:43.124191Z",
     "start_time": "2024-12-17T08:03:43.119179Z"
    }
   },
   "cell_type": "code",
   "source": [
    "#Extracting names of the features totally availabel in geography after OHE_encoding\n",
    "ohe_encoder_geo.get_feature_names_out(['Geography'])"
   ],
   "id": "3dd89e0749e3fccf",
   "outputs": [
    {
     "data": {
      "text/plain": [
       "array(['Geography_France', 'Geography_Germany', 'Geography_Spain'],\n",
       "      dtype=object)"
      ]
     },
     "execution_count": 38,
     "metadata": {},
     "output_type": "execute_result"
    }
   ],
   "execution_count": 38
  },
  {
   "metadata": {
    "ExecuteTime": {
     "end_time": "2024-12-17T08:05:34.905082Z",
     "start_time": "2024-12-17T08:05:34.897410Z"
    }
   },
   "cell_type": "code",
   "source": [
    "geo_encoder_df = pd.DataFrame(geo_encoder, columns=ohe_encoder_geo.get_feature_names_out(['Geography']))\n",
    "geo_encoder_df.head()"
   ],
   "id": "b6dd257e91e30dd6",
   "outputs": [
    {
     "data": {
      "text/plain": [
       "   Geography_France  Geography_Germany  Geography_Spain\n",
       "0               1.0                0.0              0.0\n",
       "1               0.0                0.0              1.0\n",
       "2               1.0                0.0              0.0\n",
       "3               1.0                0.0              0.0\n",
       "4               0.0                0.0              1.0"
      ],
      "text/html": [
       "<div>\n",
       "<style scoped>\n",
       "    .dataframe tbody tr th:only-of-type {\n",
       "        vertical-align: middle;\n",
       "    }\n",
       "\n",
       "    .dataframe tbody tr th {\n",
       "        vertical-align: top;\n",
       "    }\n",
       "\n",
       "    .dataframe thead th {\n",
       "        text-align: right;\n",
       "    }\n",
       "</style>\n",
       "<table border=\"1\" class=\"dataframe\">\n",
       "  <thead>\n",
       "    <tr style=\"text-align: right;\">\n",
       "      <th></th>\n",
       "      <th>Geography_France</th>\n",
       "      <th>Geography_Germany</th>\n",
       "      <th>Geography_Spain</th>\n",
       "    </tr>\n",
       "  </thead>\n",
       "  <tbody>\n",
       "    <tr>\n",
       "      <th>0</th>\n",
       "      <td>1.0</td>\n",
       "      <td>0.0</td>\n",
       "      <td>0.0</td>\n",
       "    </tr>\n",
       "    <tr>\n",
       "      <th>1</th>\n",
       "      <td>0.0</td>\n",
       "      <td>0.0</td>\n",
       "      <td>1.0</td>\n",
       "    </tr>\n",
       "    <tr>\n",
       "      <th>2</th>\n",
       "      <td>1.0</td>\n",
       "      <td>0.0</td>\n",
       "      <td>0.0</td>\n",
       "    </tr>\n",
       "    <tr>\n",
       "      <th>3</th>\n",
       "      <td>1.0</td>\n",
       "      <td>0.0</td>\n",
       "      <td>0.0</td>\n",
       "    </tr>\n",
       "    <tr>\n",
       "      <th>4</th>\n",
       "      <td>0.0</td>\n",
       "      <td>0.0</td>\n",
       "      <td>1.0</td>\n",
       "    </tr>\n",
       "  </tbody>\n",
       "</table>\n",
       "</div>"
      ]
     },
     "execution_count": 40,
     "metadata": {},
     "output_type": "execute_result"
    }
   ],
   "execution_count": 40
  },
  {
   "metadata": {
    "ExecuteTime": {
     "end_time": "2024-12-17T08:07:06.583992Z",
     "start_time": "2024-12-17T08:07:06.572591Z"
    }
   },
   "cell_type": "code",
   "source": [
    "#Combing new encoded columns in Dataset and deleting the Geography column\n",
    "Bank_data = pd.concat([Bank_data.drop('Geography',axis=1),geo_encoder_df],axis=1)\n",
    "Bank_data.head()"
   ],
   "id": "467ff0428ef293d8",
   "outputs": [
    {
     "data": {
      "text/plain": [
       "   CreditScore  Gender  Age  Tenure    Balance  NumOfProducts  HasCrCard  \\\n",
       "0          619       0   42       2       0.00              1          1   \n",
       "1          608       0   41       1   83807.86              1          0   \n",
       "2          502       0   42       8  159660.80              3          1   \n",
       "3          699       0   39       1       0.00              2          0   \n",
       "4          850       0   43       2  125510.82              1          1   \n",
       "\n",
       "   IsActiveMember  EstimatedSalary  Exited  Geography_France  \\\n",
       "0               1        101348.88       1               1.0   \n",
       "1               1        112542.58       0               0.0   \n",
       "2               0        113931.57       1               1.0   \n",
       "3               0         93826.63       0               1.0   \n",
       "4               1         79084.10       0               0.0   \n",
       "\n",
       "   Geography_Germany  Geography_Spain  \n",
       "0                0.0              0.0  \n",
       "1                0.0              1.0  \n",
       "2                0.0              0.0  \n",
       "3                0.0              0.0  \n",
       "4                0.0              1.0  "
      ],
      "text/html": [
       "<div>\n",
       "<style scoped>\n",
       "    .dataframe tbody tr th:only-of-type {\n",
       "        vertical-align: middle;\n",
       "    }\n",
       "\n",
       "    .dataframe tbody tr th {\n",
       "        vertical-align: top;\n",
       "    }\n",
       "\n",
       "    .dataframe thead th {\n",
       "        text-align: right;\n",
       "    }\n",
       "</style>\n",
       "<table border=\"1\" class=\"dataframe\">\n",
       "  <thead>\n",
       "    <tr style=\"text-align: right;\">\n",
       "      <th></th>\n",
       "      <th>CreditScore</th>\n",
       "      <th>Gender</th>\n",
       "      <th>Age</th>\n",
       "      <th>Tenure</th>\n",
       "      <th>Balance</th>\n",
       "      <th>NumOfProducts</th>\n",
       "      <th>HasCrCard</th>\n",
       "      <th>IsActiveMember</th>\n",
       "      <th>EstimatedSalary</th>\n",
       "      <th>Exited</th>\n",
       "      <th>Geography_France</th>\n",
       "      <th>Geography_Germany</th>\n",
       "      <th>Geography_Spain</th>\n",
       "    </tr>\n",
       "  </thead>\n",
       "  <tbody>\n",
       "    <tr>\n",
       "      <th>0</th>\n",
       "      <td>619</td>\n",
       "      <td>0</td>\n",
       "      <td>42</td>\n",
       "      <td>2</td>\n",
       "      <td>0.00</td>\n",
       "      <td>1</td>\n",
       "      <td>1</td>\n",
       "      <td>1</td>\n",
       "      <td>101348.88</td>\n",
       "      <td>1</td>\n",
       "      <td>1.0</td>\n",
       "      <td>0.0</td>\n",
       "      <td>0.0</td>\n",
       "    </tr>\n",
       "    <tr>\n",
       "      <th>1</th>\n",
       "      <td>608</td>\n",
       "      <td>0</td>\n",
       "      <td>41</td>\n",
       "      <td>1</td>\n",
       "      <td>83807.86</td>\n",
       "      <td>1</td>\n",
       "      <td>0</td>\n",
       "      <td>1</td>\n",
       "      <td>112542.58</td>\n",
       "      <td>0</td>\n",
       "      <td>0.0</td>\n",
       "      <td>0.0</td>\n",
       "      <td>1.0</td>\n",
       "    </tr>\n",
       "    <tr>\n",
       "      <th>2</th>\n",
       "      <td>502</td>\n",
       "      <td>0</td>\n",
       "      <td>42</td>\n",
       "      <td>8</td>\n",
       "      <td>159660.80</td>\n",
       "      <td>3</td>\n",
       "      <td>1</td>\n",
       "      <td>0</td>\n",
       "      <td>113931.57</td>\n",
       "      <td>1</td>\n",
       "      <td>1.0</td>\n",
       "      <td>0.0</td>\n",
       "      <td>0.0</td>\n",
       "    </tr>\n",
       "    <tr>\n",
       "      <th>3</th>\n",
       "      <td>699</td>\n",
       "      <td>0</td>\n",
       "      <td>39</td>\n",
       "      <td>1</td>\n",
       "      <td>0.00</td>\n",
       "      <td>2</td>\n",
       "      <td>0</td>\n",
       "      <td>0</td>\n",
       "      <td>93826.63</td>\n",
       "      <td>0</td>\n",
       "      <td>1.0</td>\n",
       "      <td>0.0</td>\n",
       "      <td>0.0</td>\n",
       "    </tr>\n",
       "    <tr>\n",
       "      <th>4</th>\n",
       "      <td>850</td>\n",
       "      <td>0</td>\n",
       "      <td>43</td>\n",
       "      <td>2</td>\n",
       "      <td>125510.82</td>\n",
       "      <td>1</td>\n",
       "      <td>1</td>\n",
       "      <td>1</td>\n",
       "      <td>79084.10</td>\n",
       "      <td>0</td>\n",
       "      <td>0.0</td>\n",
       "      <td>0.0</td>\n",
       "      <td>1.0</td>\n",
       "    </tr>\n",
       "  </tbody>\n",
       "</table>\n",
       "</div>"
      ]
     },
     "execution_count": 41,
     "metadata": {},
     "output_type": "execute_result"
    }
   ],
   "execution_count": 41
  },
  {
   "metadata": {
    "ExecuteTime": {
     "end_time": "2024-12-17T08:10:37.480523Z",
     "start_time": "2024-12-17T08:10:37.476194Z"
    }
   },
   "cell_type": "code",
   "source": [
    "## Save the encoders and scaler\n",
    "with open('label_encoder_gender.pkl','wb') as file:\n",
    "    pickle.dump(Lb_encoder_Gen,file)\n",
    "\n",
    "with open('onehot_encoder_geo.pkl','wb') as file:\n",
    "    pickle.dump(ohe_encoder_geo,file)"
   ],
   "id": "90870826dee04c6a",
   "outputs": [],
   "execution_count": 44
  },
  {
   "metadata": {
    "ExecuteTime": {
     "end_time": "2024-12-17T08:11:05.048109Z",
     "start_time": "2024-12-17T08:11:05.042312Z"
    }
   },
   "cell_type": "code",
   "source": "Bank_data.head()",
   "id": "a804cd217b2319e9",
   "outputs": [
    {
     "data": {
      "text/plain": [
       "   CreditScore  Gender  Age  Tenure    Balance  NumOfProducts  HasCrCard  \\\n",
       "0          619       0   42       2       0.00              1          1   \n",
       "1          608       0   41       1   83807.86              1          0   \n",
       "2          502       0   42       8  159660.80              3          1   \n",
       "3          699       0   39       1       0.00              2          0   \n",
       "4          850       0   43       2  125510.82              1          1   \n",
       "\n",
       "   IsActiveMember  EstimatedSalary  Exited  Geography_France  \\\n",
       "0               1        101348.88       1               1.0   \n",
       "1               1        112542.58       0               0.0   \n",
       "2               0        113931.57       1               1.0   \n",
       "3               0         93826.63       0               1.0   \n",
       "4               1         79084.10       0               0.0   \n",
       "\n",
       "   Geography_Germany  Geography_Spain  \n",
       "0                0.0              0.0  \n",
       "1                0.0              1.0  \n",
       "2                0.0              0.0  \n",
       "3                0.0              0.0  \n",
       "4                0.0              1.0  "
      ],
      "text/html": [
       "<div>\n",
       "<style scoped>\n",
       "    .dataframe tbody tr th:only-of-type {\n",
       "        vertical-align: middle;\n",
       "    }\n",
       "\n",
       "    .dataframe tbody tr th {\n",
       "        vertical-align: top;\n",
       "    }\n",
       "\n",
       "    .dataframe thead th {\n",
       "        text-align: right;\n",
       "    }\n",
       "</style>\n",
       "<table border=\"1\" class=\"dataframe\">\n",
       "  <thead>\n",
       "    <tr style=\"text-align: right;\">\n",
       "      <th></th>\n",
       "      <th>CreditScore</th>\n",
       "      <th>Gender</th>\n",
       "      <th>Age</th>\n",
       "      <th>Tenure</th>\n",
       "      <th>Balance</th>\n",
       "      <th>NumOfProducts</th>\n",
       "      <th>HasCrCard</th>\n",
       "      <th>IsActiveMember</th>\n",
       "      <th>EstimatedSalary</th>\n",
       "      <th>Exited</th>\n",
       "      <th>Geography_France</th>\n",
       "      <th>Geography_Germany</th>\n",
       "      <th>Geography_Spain</th>\n",
       "    </tr>\n",
       "  </thead>\n",
       "  <tbody>\n",
       "    <tr>\n",
       "      <th>0</th>\n",
       "      <td>619</td>\n",
       "      <td>0</td>\n",
       "      <td>42</td>\n",
       "      <td>2</td>\n",
       "      <td>0.00</td>\n",
       "      <td>1</td>\n",
       "      <td>1</td>\n",
       "      <td>1</td>\n",
       "      <td>101348.88</td>\n",
       "      <td>1</td>\n",
       "      <td>1.0</td>\n",
       "      <td>0.0</td>\n",
       "      <td>0.0</td>\n",
       "    </tr>\n",
       "    <tr>\n",
       "      <th>1</th>\n",
       "      <td>608</td>\n",
       "      <td>0</td>\n",
       "      <td>41</td>\n",
       "      <td>1</td>\n",
       "      <td>83807.86</td>\n",
       "      <td>1</td>\n",
       "      <td>0</td>\n",
       "      <td>1</td>\n",
       "      <td>112542.58</td>\n",
       "      <td>0</td>\n",
       "      <td>0.0</td>\n",
       "      <td>0.0</td>\n",
       "      <td>1.0</td>\n",
       "    </tr>\n",
       "    <tr>\n",
       "      <th>2</th>\n",
       "      <td>502</td>\n",
       "      <td>0</td>\n",
       "      <td>42</td>\n",
       "      <td>8</td>\n",
       "      <td>159660.80</td>\n",
       "      <td>3</td>\n",
       "      <td>1</td>\n",
       "      <td>0</td>\n",
       "      <td>113931.57</td>\n",
       "      <td>1</td>\n",
       "      <td>1.0</td>\n",
       "      <td>0.0</td>\n",
       "      <td>0.0</td>\n",
       "    </tr>\n",
       "    <tr>\n",
       "      <th>3</th>\n",
       "      <td>699</td>\n",
       "      <td>0</td>\n",
       "      <td>39</td>\n",
       "      <td>1</td>\n",
       "      <td>0.00</td>\n",
       "      <td>2</td>\n",
       "      <td>0</td>\n",
       "      <td>0</td>\n",
       "      <td>93826.63</td>\n",
       "      <td>0</td>\n",
       "      <td>1.0</td>\n",
       "      <td>0.0</td>\n",
       "      <td>0.0</td>\n",
       "    </tr>\n",
       "    <tr>\n",
       "      <th>4</th>\n",
       "      <td>850</td>\n",
       "      <td>0</td>\n",
       "      <td>43</td>\n",
       "      <td>2</td>\n",
       "      <td>125510.82</td>\n",
       "      <td>1</td>\n",
       "      <td>1</td>\n",
       "      <td>1</td>\n",
       "      <td>79084.10</td>\n",
       "      <td>0</td>\n",
       "      <td>0.0</td>\n",
       "      <td>0.0</td>\n",
       "      <td>1.0</td>\n",
       "    </tr>\n",
       "  </tbody>\n",
       "</table>\n",
       "</div>"
      ]
     },
     "execution_count": 45,
     "metadata": {},
     "output_type": "execute_result"
    }
   ],
   "execution_count": 45
  },
  {
   "metadata": {
    "ExecuteTime": {
     "end_time": "2024-12-17T10:26:35.393697Z",
     "start_time": "2024-12-17T10:26:29.388568Z"
    }
   },
   "cell_type": "code",
   "source": [
    "#Spiltting the dataset into dependent and independent features\n",
    "X = Bank_data.drop('Exited',axis=1)\n",
    "y = Bank_data['Exited']\n",
    "X_train, X_test, y_train, y_test = train_test_split(X, y, test_size=0.2, random_state=42)\n"
   ],
   "id": "f8775bc70e62d07d",
   "outputs": [],
   "execution_count": 169
  },
  {
   "metadata": {
    "ExecuteTime": {
     "end_time": "2024-12-17T10:26:53.703592Z",
     "start_time": "2024-12-17T10:26:53.696955Z"
    }
   },
   "cell_type": "code",
   "source": [
    "#Scaling the features\n",
    "scaler = StandardScaler()\n",
    "X_train = scaler.fit_transform(X_train)\n",
    "X_test = scaler.transform(X_test)"
   ],
   "id": "80872b1d0b6f0c9b",
   "outputs": [],
   "execution_count": 171
  },
  {
   "metadata": {
    "ExecuteTime": {
     "end_time": "2024-12-17T10:26:57.898297Z",
     "start_time": "2024-12-17T10:26:57.893896Z"
    }
   },
   "cell_type": "code",
   "source": "X_train",
   "id": "8560abf2a1a40483",
   "outputs": [
    {
     "data": {
      "text/plain": [
       "array([[ 0.35649971,  0.91324755, -0.6557859 , ...,  1.00150113,\n",
       "        -0.57946723, -0.57638802],\n",
       "       [-0.20389777,  0.91324755,  0.29493847, ..., -0.99850112,\n",
       "         1.72572313, -0.57638802],\n",
       "       [-0.96147213,  0.91324755, -1.41636539, ..., -0.99850112,\n",
       "        -0.57946723,  1.73494238],\n",
       "       ...,\n",
       "       [ 0.86500853, -1.09499335, -0.08535128, ...,  1.00150113,\n",
       "        -0.57946723, -0.57638802],\n",
       "       [ 0.15932282,  0.91324755,  0.3900109 , ...,  1.00150113,\n",
       "        -0.57946723, -0.57638802],\n",
       "       [ 0.47065475,  0.91324755,  1.15059039, ..., -0.99850112,\n",
       "         1.72572313, -0.57638802]])"
      ]
     },
     "execution_count": 172,
     "metadata": {},
     "output_type": "execute_result"
    }
   ],
   "execution_count": 172
  },
  {
   "metadata": {
    "ExecuteTime": {
     "end_time": "2024-12-17T10:27:02.042905Z",
     "start_time": "2024-12-17T10:27:02.038432Z"
    }
   },
   "cell_type": "code",
   "source": [
    "#saving the scaling\n",
    "with open('scaler.pkl','wb') as file:\n",
    "    pickle.dump(scaler,file)"
   ],
   "id": "a82cfa944d7eacc2",
   "outputs": [],
   "execution_count": 173
  },
  {
   "metadata": {
    "ExecuteTime": {
     "end_time": "2024-12-17T10:27:04.909011Z",
     "start_time": "2024-12-17T10:27:04.897767Z"
    }
   },
   "cell_type": "code",
   "source": "Bank_data",
   "id": "604eb2afe9d15044",
   "outputs": [
    {
     "data": {
      "text/plain": [
       "      CreditScore  Gender  Age  Tenure    Balance  NumOfProducts  HasCrCard  \\\n",
       "0             619       0   42       2       0.00              1          1   \n",
       "1             608       0   41       1   83807.86              1          0   \n",
       "2             502       0   42       8  159660.80              3          1   \n",
       "3             699       0   39       1       0.00              2          0   \n",
       "4             850       0   43       2  125510.82              1          1   \n",
       "...           ...     ...  ...     ...        ...            ...        ...   \n",
       "9995          771       1   39       5       0.00              2          1   \n",
       "9996          516       1   35      10   57369.61              1          1   \n",
       "9997          709       0   36       7       0.00              1          0   \n",
       "9998          772       1   42       3   75075.31              2          1   \n",
       "9999          792       0   28       4  130142.79              1          1   \n",
       "\n",
       "      IsActiveMember  EstimatedSalary  Exited  Geography_France  \\\n",
       "0                  1        101348.88       1               1.0   \n",
       "1                  1        112542.58       0               0.0   \n",
       "2                  0        113931.57       1               1.0   \n",
       "3                  0         93826.63       0               1.0   \n",
       "4                  1         79084.10       0               0.0   \n",
       "...              ...              ...     ...               ...   \n",
       "9995               0         96270.64       0               1.0   \n",
       "9996               1        101699.77       0               1.0   \n",
       "9997               1         42085.58       1               1.0   \n",
       "9998               0         92888.52       1               0.0   \n",
       "9999               0         38190.78       0               1.0   \n",
       "\n",
       "      Geography_Germany  Geography_Spain  \n",
       "0                   0.0              0.0  \n",
       "1                   0.0              1.0  \n",
       "2                   0.0              0.0  \n",
       "3                   0.0              0.0  \n",
       "4                   0.0              1.0  \n",
       "...                 ...              ...  \n",
       "9995                0.0              0.0  \n",
       "9996                0.0              0.0  \n",
       "9997                0.0              0.0  \n",
       "9998                1.0              0.0  \n",
       "9999                0.0              0.0  \n",
       "\n",
       "[10000 rows x 13 columns]"
      ],
      "text/html": [
       "<div>\n",
       "<style scoped>\n",
       "    .dataframe tbody tr th:only-of-type {\n",
       "        vertical-align: middle;\n",
       "    }\n",
       "\n",
       "    .dataframe tbody tr th {\n",
       "        vertical-align: top;\n",
       "    }\n",
       "\n",
       "    .dataframe thead th {\n",
       "        text-align: right;\n",
       "    }\n",
       "</style>\n",
       "<table border=\"1\" class=\"dataframe\">\n",
       "  <thead>\n",
       "    <tr style=\"text-align: right;\">\n",
       "      <th></th>\n",
       "      <th>CreditScore</th>\n",
       "      <th>Gender</th>\n",
       "      <th>Age</th>\n",
       "      <th>Tenure</th>\n",
       "      <th>Balance</th>\n",
       "      <th>NumOfProducts</th>\n",
       "      <th>HasCrCard</th>\n",
       "      <th>IsActiveMember</th>\n",
       "      <th>EstimatedSalary</th>\n",
       "      <th>Exited</th>\n",
       "      <th>Geography_France</th>\n",
       "      <th>Geography_Germany</th>\n",
       "      <th>Geography_Spain</th>\n",
       "    </tr>\n",
       "  </thead>\n",
       "  <tbody>\n",
       "    <tr>\n",
       "      <th>0</th>\n",
       "      <td>619</td>\n",
       "      <td>0</td>\n",
       "      <td>42</td>\n",
       "      <td>2</td>\n",
       "      <td>0.00</td>\n",
       "      <td>1</td>\n",
       "      <td>1</td>\n",
       "      <td>1</td>\n",
       "      <td>101348.88</td>\n",
       "      <td>1</td>\n",
       "      <td>1.0</td>\n",
       "      <td>0.0</td>\n",
       "      <td>0.0</td>\n",
       "    </tr>\n",
       "    <tr>\n",
       "      <th>1</th>\n",
       "      <td>608</td>\n",
       "      <td>0</td>\n",
       "      <td>41</td>\n",
       "      <td>1</td>\n",
       "      <td>83807.86</td>\n",
       "      <td>1</td>\n",
       "      <td>0</td>\n",
       "      <td>1</td>\n",
       "      <td>112542.58</td>\n",
       "      <td>0</td>\n",
       "      <td>0.0</td>\n",
       "      <td>0.0</td>\n",
       "      <td>1.0</td>\n",
       "    </tr>\n",
       "    <tr>\n",
       "      <th>2</th>\n",
       "      <td>502</td>\n",
       "      <td>0</td>\n",
       "      <td>42</td>\n",
       "      <td>8</td>\n",
       "      <td>159660.80</td>\n",
       "      <td>3</td>\n",
       "      <td>1</td>\n",
       "      <td>0</td>\n",
       "      <td>113931.57</td>\n",
       "      <td>1</td>\n",
       "      <td>1.0</td>\n",
       "      <td>0.0</td>\n",
       "      <td>0.0</td>\n",
       "    </tr>\n",
       "    <tr>\n",
       "      <th>3</th>\n",
       "      <td>699</td>\n",
       "      <td>0</td>\n",
       "      <td>39</td>\n",
       "      <td>1</td>\n",
       "      <td>0.00</td>\n",
       "      <td>2</td>\n",
       "      <td>0</td>\n",
       "      <td>0</td>\n",
       "      <td>93826.63</td>\n",
       "      <td>0</td>\n",
       "      <td>1.0</td>\n",
       "      <td>0.0</td>\n",
       "      <td>0.0</td>\n",
       "    </tr>\n",
       "    <tr>\n",
       "      <th>4</th>\n",
       "      <td>850</td>\n",
       "      <td>0</td>\n",
       "      <td>43</td>\n",
       "      <td>2</td>\n",
       "      <td>125510.82</td>\n",
       "      <td>1</td>\n",
       "      <td>1</td>\n",
       "      <td>1</td>\n",
       "      <td>79084.10</td>\n",
       "      <td>0</td>\n",
       "      <td>0.0</td>\n",
       "      <td>0.0</td>\n",
       "      <td>1.0</td>\n",
       "    </tr>\n",
       "    <tr>\n",
       "      <th>...</th>\n",
       "      <td>...</td>\n",
       "      <td>...</td>\n",
       "      <td>...</td>\n",
       "      <td>...</td>\n",
       "      <td>...</td>\n",
       "      <td>...</td>\n",
       "      <td>...</td>\n",
       "      <td>...</td>\n",
       "      <td>...</td>\n",
       "      <td>...</td>\n",
       "      <td>...</td>\n",
       "      <td>...</td>\n",
       "      <td>...</td>\n",
       "    </tr>\n",
       "    <tr>\n",
       "      <th>9995</th>\n",
       "      <td>771</td>\n",
       "      <td>1</td>\n",
       "      <td>39</td>\n",
       "      <td>5</td>\n",
       "      <td>0.00</td>\n",
       "      <td>2</td>\n",
       "      <td>1</td>\n",
       "      <td>0</td>\n",
       "      <td>96270.64</td>\n",
       "      <td>0</td>\n",
       "      <td>1.0</td>\n",
       "      <td>0.0</td>\n",
       "      <td>0.0</td>\n",
       "    </tr>\n",
       "    <tr>\n",
       "      <th>9996</th>\n",
       "      <td>516</td>\n",
       "      <td>1</td>\n",
       "      <td>35</td>\n",
       "      <td>10</td>\n",
       "      <td>57369.61</td>\n",
       "      <td>1</td>\n",
       "      <td>1</td>\n",
       "      <td>1</td>\n",
       "      <td>101699.77</td>\n",
       "      <td>0</td>\n",
       "      <td>1.0</td>\n",
       "      <td>0.0</td>\n",
       "      <td>0.0</td>\n",
       "    </tr>\n",
       "    <tr>\n",
       "      <th>9997</th>\n",
       "      <td>709</td>\n",
       "      <td>0</td>\n",
       "      <td>36</td>\n",
       "      <td>7</td>\n",
       "      <td>0.00</td>\n",
       "      <td>1</td>\n",
       "      <td>0</td>\n",
       "      <td>1</td>\n",
       "      <td>42085.58</td>\n",
       "      <td>1</td>\n",
       "      <td>1.0</td>\n",
       "      <td>0.0</td>\n",
       "      <td>0.0</td>\n",
       "    </tr>\n",
       "    <tr>\n",
       "      <th>9998</th>\n",
       "      <td>772</td>\n",
       "      <td>1</td>\n",
       "      <td>42</td>\n",
       "      <td>3</td>\n",
       "      <td>75075.31</td>\n",
       "      <td>2</td>\n",
       "      <td>1</td>\n",
       "      <td>0</td>\n",
       "      <td>92888.52</td>\n",
       "      <td>1</td>\n",
       "      <td>0.0</td>\n",
       "      <td>1.0</td>\n",
       "      <td>0.0</td>\n",
       "    </tr>\n",
       "    <tr>\n",
       "      <th>9999</th>\n",
       "      <td>792</td>\n",
       "      <td>0</td>\n",
       "      <td>28</td>\n",
       "      <td>4</td>\n",
       "      <td>130142.79</td>\n",
       "      <td>1</td>\n",
       "      <td>1</td>\n",
       "      <td>0</td>\n",
       "      <td>38190.78</td>\n",
       "      <td>0</td>\n",
       "      <td>1.0</td>\n",
       "      <td>0.0</td>\n",
       "      <td>0.0</td>\n",
       "    </tr>\n",
       "  </tbody>\n",
       "</table>\n",
       "<p>10000 rows × 13 columns</p>\n",
       "</div>"
      ]
     },
     "execution_count": 174,
     "metadata": {},
     "output_type": "execute_result"
    }
   ],
   "execution_count": 174
  },
  {
   "metadata": {
    "ExecuteTime": {
     "end_time": "2024-12-17T10:27:06.882307Z",
     "start_time": "2024-12-17T10:27:06.880102Z"
    }
   },
   "cell_type": "code",
   "source": "#ANN IMPLEMENTATION ",
   "id": "6afe958f2c4725b9",
   "outputs": [],
   "execution_count": 175
  },
  {
   "metadata": {
    "ExecuteTime": {
     "end_time": "2024-12-17T10:27:08.277553Z",
     "start_time": "2024-12-17T10:27:08.272918Z"
    }
   },
   "cell_type": "code",
   "source": [
    "#the data is imbalanced\n",
    "y.value_counts(normalize=True)"
   ],
   "id": "56f33bc0988aea16",
   "outputs": [
    {
     "data": {
      "text/plain": [
       "Exited\n",
       "0    0.7963\n",
       "1    0.2037\n",
       "Name: proportion, dtype: float64"
      ]
     },
     "execution_count": 176,
     "metadata": {},
     "output_type": "execute_result"
    }
   ],
   "execution_count": 176
  },
  {
   "metadata": {
    "ExecuteTime": {
     "end_time": "2024-12-17T11:04:54.250944Z",
     "start_time": "2024-12-17T11:04:54.244502Z"
    }
   },
   "cell_type": "code",
   "source": [
    "from imblearn.over_sampling import SMOTE\n",
    "from collections import Counter\n",
    "\n",
    "# Apply SMOTE\n",
    "smote = SMOTE(sampling_strategy='minority', random_state=42)\n",
    "X_train_smote, y_train_smote = smote.fit_resample(X_train, y_train)\n",
    "\n",
    "print(\"Class distribution after SMOTE:\", Counter(y_train_smote))"
   ],
   "id": "d7e43515c84892d9",
   "outputs": [
    {
     "name": "stdout",
     "output_type": "stream",
     "text": [
      "Class distribution after SMOTE: Counter({0: 6356, 1: 6356})\n"
     ]
    }
   ],
   "execution_count": 190
  },
  {
   "metadata": {
    "ExecuteTime": {
     "end_time": "2024-12-17T11:05:05.349491Z",
     "start_time": "2024-12-17T11:05:05.342158Z"
    }
   },
   "cell_type": "code",
   "source": [
    "from imblearn.under_sampling import RandomUnderSampler\n",
    "from collections import Counter\n",
    "\n",
    "# Undersampling the majority class\n",
    "undersample = RandomUnderSampler(sampling_strategy='majority', random_state=42)\n",
    "X_train_under, y_train_under = undersample.fit_resample(X_train, y_train)\n",
    "\n",
    "print(\"Class distribution after undersampling:\", Counter(y_train_under))"
   ],
   "id": "4e80a92f255bd90",
   "outputs": [
    {
     "name": "stdout",
     "output_type": "stream",
     "text": [
      "Class distribution after undersampling: Counter({0: 6356, 1: 6356})\n"
     ]
    }
   ],
   "execution_count": 191
  },
  {
   "metadata": {
    "ExecuteTime": {
     "end_time": "2024-12-17T14:38:34.655906Z",
     "start_time": "2024-12-17T14:38:34.502155Z"
    }
   },
   "cell_type": "code",
   "source": [
    "from imblearn.keras import BalancedBatchGenerator\n",
    "from imblearn.under_sampling import NearMiss\n",
    "\n",
    "# Create balanced batches\n",
    "batch_generator = BalancedBatchGenerator(X_train, y_train, sampler=NearMiss(), batch_size=32, random_state=42)"
   ],
   "id": "69c0fa7da6847031",
   "outputs": [],
   "execution_count": 195
  },
  {
   "metadata": {
    "ExecuteTime": {
     "end_time": "2024-12-17T14:38:37.517302Z",
     "start_time": "2024-12-17T14:38:37.514086Z"
    }
   },
   "cell_type": "code",
   "source": [
    "import tensorflow as tf\n",
    "from tensorflow.keras.models import Sequential\n",
    "from tensorflow.keras.layers import Dense, BatchNormalization, Dropout\n",
    "from tensorflow.keras.callbacks import EarlyStopping, TensorBoard\n",
    "import datetime"
   ],
   "id": "d668fd4954af4b22",
   "outputs": [],
   "execution_count": 196
  },
  {
   "metadata": {
    "ExecuteTime": {
     "end_time": "2024-12-17T14:38:39.454088Z",
     "start_time": "2024-12-17T14:38:39.450281Z"
    }
   },
   "cell_type": "code",
   "source": "(X_train.shape[1],)",
   "id": "1dd7f044dec3d323",
   "outputs": [
    {
     "data": {
      "text/plain": [
       "(12,)"
      ]
     },
     "execution_count": 197,
     "metadata": {},
     "output_type": "execute_result"
    }
   ],
   "execution_count": 197
  },
  {
   "metadata": {
    "ExecuteTime": {
     "end_time": "2024-12-17T15:30:32.163518Z",
     "start_time": "2024-12-17T15:30:32.114085Z"
    }
   },
   "cell_type": "code",
   "source": [
    "model = Sequential()\n",
    "\n",
    "# First hidden layer\n",
    "model.add(Dense(128, activation='relu', input_shape=(X_train.shape[1],)))\n",
    "model.add(BatchNormalization())\n",
    "model.add(Dropout(0.2))\n",
    "\n",
    "# Second hidden layer\n",
    "model.add(Dense(80, activation='relu'))\n",
    "model.add(BatchNormalization())\n",
    "model.add(Dropout(0.1))\n",
    "\n",
    "\n",
    "# Output layer\n",
    "model.add(Dense(1, activation='sigmoid'))"
   ],
   "id": "565b4ab5abb1b3a3",
   "outputs": [
    {
     "name": "stderr",
     "output_type": "stream",
     "text": [
      "/opt/homebrew/Caskroom/miniconda/base/lib/python3.12/site-packages/keras/src/layers/core/dense.py:87: UserWarning: Do not pass an `input_shape`/`input_dim` argument to a layer. When using Sequential models, prefer using an `Input(shape)` object as the first layer in the model instead.\n",
      "  super().__init__(activity_regularizer=activity_regularizer, **kwargs)\n"
     ]
    }
   ],
   "execution_count": 272
  },
  {
   "metadata": {
    "ExecuteTime": {
     "end_time": "2024-12-17T15:30:37.441537Z",
     "start_time": "2024-12-17T15:30:37.428816Z"
    }
   },
   "cell_type": "code",
   "source": "model.summary()",
   "id": "da14e69e4afa6e5c",
   "outputs": [
    {
     "data": {
      "text/plain": [
       "\u001B[1mModel: \"sequential_7\"\u001B[0m\n"
      ],
      "text/html": [
       "<pre style=\"white-space:pre;overflow-x:auto;line-height:normal;font-family:Menlo,'DejaVu Sans Mono',consolas,'Courier New',monospace\"><span style=\"font-weight: bold\">Model: \"sequential_7\"</span>\n",
       "</pre>\n"
      ]
     },
     "metadata": {},
     "output_type": "display_data"
    },
    {
     "data": {
      "text/plain": [
       "┏━━━━━━━━━━━━━━━━━━━━━━━━━━━━━━━━━┳━━━━━━━━━━━━━━━━━━━━━━━━┳━━━━━━━━━━━━━━━┓\n",
       "┃\u001B[1m \u001B[0m\u001B[1mLayer (type)                   \u001B[0m\u001B[1m \u001B[0m┃\u001B[1m \u001B[0m\u001B[1mOutput Shape          \u001B[0m\u001B[1m \u001B[0m┃\u001B[1m \u001B[0m\u001B[1m      Param #\u001B[0m\u001B[1m \u001B[0m┃\n",
       "┡━━━━━━━━━━━━━━━━━━━━━━━━━━━━━━━━━╇━━━━━━━━━━━━━━━━━━━━━━━━╇━━━━━━━━━━━━━━━┩\n",
       "│ dense_25 (\u001B[38;5;33mDense\u001B[0m)                │ (\u001B[38;5;45mNone\u001B[0m, \u001B[38;5;34m128\u001B[0m)            │         \u001B[38;5;34m1,664\u001B[0m │\n",
       "├─────────────────────────────────┼────────────────────────┼───────────────┤\n",
       "│ batch_normalization_12          │ (\u001B[38;5;45mNone\u001B[0m, \u001B[38;5;34m128\u001B[0m)            │           \u001B[38;5;34m512\u001B[0m │\n",
       "│ (\u001B[38;5;33mBatchNormalization\u001B[0m)            │                        │               │\n",
       "├─────────────────────────────────┼────────────────────────┼───────────────┤\n",
       "│ dropout_12 (\u001B[38;5;33mDropout\u001B[0m)            │ (\u001B[38;5;45mNone\u001B[0m, \u001B[38;5;34m128\u001B[0m)            │             \u001B[38;5;34m0\u001B[0m │\n",
       "├─────────────────────────────────┼────────────────────────┼───────────────┤\n",
       "│ dense_26 (\u001B[38;5;33mDense\u001B[0m)                │ (\u001B[38;5;45mNone\u001B[0m, \u001B[38;5;34m80\u001B[0m)             │        \u001B[38;5;34m10,320\u001B[0m │\n",
       "├─────────────────────────────────┼────────────────────────┼───────────────┤\n",
       "│ batch_normalization_13          │ (\u001B[38;5;45mNone\u001B[0m, \u001B[38;5;34m80\u001B[0m)             │           \u001B[38;5;34m320\u001B[0m │\n",
       "│ (\u001B[38;5;33mBatchNormalization\u001B[0m)            │                        │               │\n",
       "├─────────────────────────────────┼────────────────────────┼───────────────┤\n",
       "│ dropout_13 (\u001B[38;5;33mDropout\u001B[0m)            │ (\u001B[38;5;45mNone\u001B[0m, \u001B[38;5;34m80\u001B[0m)             │             \u001B[38;5;34m0\u001B[0m │\n",
       "├─────────────────────────────────┼────────────────────────┼───────────────┤\n",
       "│ dense_27 (\u001B[38;5;33mDense\u001B[0m)                │ (\u001B[38;5;45mNone\u001B[0m, \u001B[38;5;34m1\u001B[0m)              │            \u001B[38;5;34m81\u001B[0m │\n",
       "└─────────────────────────────────┴────────────────────────┴───────────────┘\n"
      ],
      "text/html": [
       "<pre style=\"white-space:pre;overflow-x:auto;line-height:normal;font-family:Menlo,'DejaVu Sans Mono',consolas,'Courier New',monospace\">┏━━━━━━━━━━━━━━━━━━━━━━━━━━━━━━━━━┳━━━━━━━━━━━━━━━━━━━━━━━━┳━━━━━━━━━━━━━━━┓\n",
       "┃<span style=\"font-weight: bold\"> Layer (type)                    </span>┃<span style=\"font-weight: bold\"> Output Shape           </span>┃<span style=\"font-weight: bold\">       Param # </span>┃\n",
       "┡━━━━━━━━━━━━━━━━━━━━━━━━━━━━━━━━━╇━━━━━━━━━━━━━━━━━━━━━━━━╇━━━━━━━━━━━━━━━┩\n",
       "│ dense_25 (<span style=\"color: #0087ff; text-decoration-color: #0087ff\">Dense</span>)                │ (<span style=\"color: #00d7ff; text-decoration-color: #00d7ff\">None</span>, <span style=\"color: #00af00; text-decoration-color: #00af00\">128</span>)            │         <span style=\"color: #00af00; text-decoration-color: #00af00\">1,664</span> │\n",
       "├─────────────────────────────────┼────────────────────────┼───────────────┤\n",
       "│ batch_normalization_12          │ (<span style=\"color: #00d7ff; text-decoration-color: #00d7ff\">None</span>, <span style=\"color: #00af00; text-decoration-color: #00af00\">128</span>)            │           <span style=\"color: #00af00; text-decoration-color: #00af00\">512</span> │\n",
       "│ (<span style=\"color: #0087ff; text-decoration-color: #0087ff\">BatchNormalization</span>)            │                        │               │\n",
       "├─────────────────────────────────┼────────────────────────┼───────────────┤\n",
       "│ dropout_12 (<span style=\"color: #0087ff; text-decoration-color: #0087ff\">Dropout</span>)            │ (<span style=\"color: #00d7ff; text-decoration-color: #00d7ff\">None</span>, <span style=\"color: #00af00; text-decoration-color: #00af00\">128</span>)            │             <span style=\"color: #00af00; text-decoration-color: #00af00\">0</span> │\n",
       "├─────────────────────────────────┼────────────────────────┼───────────────┤\n",
       "│ dense_26 (<span style=\"color: #0087ff; text-decoration-color: #0087ff\">Dense</span>)                │ (<span style=\"color: #00d7ff; text-decoration-color: #00d7ff\">None</span>, <span style=\"color: #00af00; text-decoration-color: #00af00\">80</span>)             │        <span style=\"color: #00af00; text-decoration-color: #00af00\">10,320</span> │\n",
       "├─────────────────────────────────┼────────────────────────┼───────────────┤\n",
       "│ batch_normalization_13          │ (<span style=\"color: #00d7ff; text-decoration-color: #00d7ff\">None</span>, <span style=\"color: #00af00; text-decoration-color: #00af00\">80</span>)             │           <span style=\"color: #00af00; text-decoration-color: #00af00\">320</span> │\n",
       "│ (<span style=\"color: #0087ff; text-decoration-color: #0087ff\">BatchNormalization</span>)            │                        │               │\n",
       "├─────────────────────────────────┼────────────────────────┼───────────────┤\n",
       "│ dropout_13 (<span style=\"color: #0087ff; text-decoration-color: #0087ff\">Dropout</span>)            │ (<span style=\"color: #00d7ff; text-decoration-color: #00d7ff\">None</span>, <span style=\"color: #00af00; text-decoration-color: #00af00\">80</span>)             │             <span style=\"color: #00af00; text-decoration-color: #00af00\">0</span> │\n",
       "├─────────────────────────────────┼────────────────────────┼───────────────┤\n",
       "│ dense_27 (<span style=\"color: #0087ff; text-decoration-color: #0087ff\">Dense</span>)                │ (<span style=\"color: #00d7ff; text-decoration-color: #00d7ff\">None</span>, <span style=\"color: #00af00; text-decoration-color: #00af00\">1</span>)              │            <span style=\"color: #00af00; text-decoration-color: #00af00\">81</span> │\n",
       "└─────────────────────────────────┴────────────────────────┴───────────────┘\n",
       "</pre>\n"
      ]
     },
     "metadata": {},
     "output_type": "display_data"
    },
    {
     "data": {
      "text/plain": [
       "\u001B[1m Total params: \u001B[0m\u001B[38;5;34m12,897\u001B[0m (50.38 KB)\n"
      ],
      "text/html": [
       "<pre style=\"white-space:pre;overflow-x:auto;line-height:normal;font-family:Menlo,'DejaVu Sans Mono',consolas,'Courier New',monospace\"><span style=\"font-weight: bold\"> Total params: </span><span style=\"color: #00af00; text-decoration-color: #00af00\">12,897</span> (50.38 KB)\n",
       "</pre>\n"
      ]
     },
     "metadata": {},
     "output_type": "display_data"
    },
    {
     "data": {
      "text/plain": [
       "\u001B[1m Trainable params: \u001B[0m\u001B[38;5;34m12,481\u001B[0m (48.75 KB)\n"
      ],
      "text/html": [
       "<pre style=\"white-space:pre;overflow-x:auto;line-height:normal;font-family:Menlo,'DejaVu Sans Mono',consolas,'Courier New',monospace\"><span style=\"font-weight: bold\"> Trainable params: </span><span style=\"color: #00af00; text-decoration-color: #00af00\">12,481</span> (48.75 KB)\n",
       "</pre>\n"
      ]
     },
     "metadata": {},
     "output_type": "display_data"
    },
    {
     "data": {
      "text/plain": [
       "\u001B[1m Non-trainable params: \u001B[0m\u001B[38;5;34m416\u001B[0m (1.62 KB)\n"
      ],
      "text/html": [
       "<pre style=\"white-space:pre;overflow-x:auto;line-height:normal;font-family:Menlo,'DejaVu Sans Mono',consolas,'Courier New',monospace\"><span style=\"font-weight: bold\"> Non-trainable params: </span><span style=\"color: #00af00; text-decoration-color: #00af00\">416</span> (1.62 KB)\n",
       "</pre>\n"
      ]
     },
     "metadata": {},
     "output_type": "display_data"
    }
   ],
   "execution_count": 273
  },
  {
   "metadata": {
    "ExecuteTime": {
     "end_time": "2024-12-17T15:37:17.416646Z",
     "start_time": "2024-12-17T15:37:17.407478Z"
    }
   },
   "cell_type": "code",
   "source": [
    "import tensorflow\n",
    "opt = tensorflow.optimizers.Adam(0.1) #optimizer for training of model"
   ],
   "id": "ca1b89477639c671",
   "outputs": [],
   "execution_count": 301
  },
  {
   "metadata": {
    "ExecuteTime": {
     "end_time": "2024-12-17T15:37:19.002698Z",
     "start_time": "2024-12-17T15:37:18.995810Z"
    }
   },
   "cell_type": "code",
   "source": [
    "## compile the model\n",
    "model.compile(optimizer=opt,loss=\"binary_crossentropy\",metrics=['accuracy'])"
   ],
   "id": "12e7bad28b777b9c",
   "outputs": [],
   "execution_count": 302
  },
  {
   "metadata": {
    "ExecuteTime": {
     "end_time": "2024-12-17T15:37:20.955049Z",
     "start_time": "2024-12-17T15:37:20.950512Z"
    }
   },
   "cell_type": "code",
   "source": [
    "#Setting up the tensorboard for better visualization\n",
    "log_dir = \"logs/fit/\" + datetime.datetime.now().strftime(\"%Y%m%d-%H%M%S\")\n",
    "tensorflow_callback=TensorBoard(log_dir=log_dir,histogram_freq=1)"
   ],
   "id": "6235c029b4dcb101",
   "outputs": [],
   "execution_count": 303
  },
  {
   "metadata": {
    "ExecuteTime": {
     "end_time": "2024-12-17T15:37:24.173648Z",
     "start_time": "2024-12-17T15:37:24.169219Z"
    }
   },
   "cell_type": "code",
   "source": [
    "#Early stopping for best results\n",
    "early_stop = EarlyStopping(monitor='val_loss', patience=150,restore_best_weights=True )"
   ],
   "id": "5215e5679700e534",
   "outputs": [],
   "execution_count": 304
  },
  {
   "metadata": {
    "ExecuteTime": {
     "end_time": "2024-12-17T15:38:04.786324Z",
     "start_time": "2024-12-17T15:37:27.293911Z"
    }
   },
   "cell_type": "code",
   "source": [
    "#fitting the model for initial accuracy\n",
    "history = model.fit(\n",
    "    X_train_under, y_train_under,\n",
    "    validation_data=(X_test, y_test),\n",
    "    epochs=150,\n",
    "    batch_size=32,\n",
    "    callbacks=[early_stop, tensorflow_callback],\n",
    "    \n",
    ")"
   ],
   "id": "c43284e4158495ea",
   "outputs": [
    {
     "name": "stdout",
     "output_type": "stream",
     "text": [
      "Epoch 1/150\n",
      "\u001B[1m398/398\u001B[0m \u001B[32m━━━━━━━━━━━━━━━━━━━━\u001B[0m\u001B[37m\u001B[0m \u001B[1m1s\u001B[0m 750us/step - accuracy: 0.7912 - loss: 0.4485 - val_accuracy: 0.8080 - val_loss: 0.4379\n",
      "Epoch 2/150\n",
      "\u001B[1m398/398\u001B[0m \u001B[32m━━━━━━━━━━━━━━━━━━━━\u001B[0m\u001B[37m\u001B[0m \u001B[1m0s\u001B[0m 590us/step - accuracy: 0.8008 - loss: 0.4438 - val_accuracy: 0.7810 - val_loss: 0.4625\n",
      "Epoch 3/150\n",
      "\u001B[1m398/398\u001B[0m \u001B[32m━━━━━━━━━━━━━━━━━━━━\u001B[0m\u001B[37m\u001B[0m \u001B[1m0s\u001B[0m 565us/step - accuracy: 0.7972 - loss: 0.4399 - val_accuracy: 0.7340 - val_loss: 0.5296\n",
      "Epoch 4/150\n",
      "\u001B[1m398/398\u001B[0m \u001B[32m━━━━━━━━━━━━━━━━━━━━\u001B[0m\u001B[37m\u001B[0m \u001B[1m0s\u001B[0m 571us/step - accuracy: 0.7932 - loss: 0.4555 - val_accuracy: 0.8035 - val_loss: 0.4116\n",
      "Epoch 5/150\n",
      "\u001B[1m398/398\u001B[0m \u001B[32m━━━━━━━━━━━━━━━━━━━━\u001B[0m\u001B[37m\u001B[0m \u001B[1m0s\u001B[0m 585us/step - accuracy: 0.8099 - loss: 0.4223 - val_accuracy: 0.8410 - val_loss: 0.4001\n",
      "Epoch 6/150\n",
      "\u001B[1m398/398\u001B[0m \u001B[32m━━━━━━━━━━━━━━━━━━━━\u001B[0m\u001B[37m\u001B[0m \u001B[1m0s\u001B[0m 569us/step - accuracy: 0.7945 - loss: 0.4410 - val_accuracy: 0.8420 - val_loss: 0.3969\n",
      "Epoch 7/150\n",
      "\u001B[1m398/398\u001B[0m \u001B[32m━━━━━━━━━━━━━━━━━━━━\u001B[0m\u001B[37m\u001B[0m \u001B[1m0s\u001B[0m 563us/step - accuracy: 0.8010 - loss: 0.4335 - val_accuracy: 0.8340 - val_loss: 0.3796\n",
      "Epoch 8/150\n",
      "\u001B[1m398/398\u001B[0m \u001B[32m━━━━━━━━━━━━━━━━━━━━\u001B[0m\u001B[37m\u001B[0m \u001B[1m0s\u001B[0m 575us/step - accuracy: 0.7927 - loss: 0.4495 - val_accuracy: 0.8645 - val_loss: 0.3569\n",
      "Epoch 9/150\n",
      "\u001B[1m398/398\u001B[0m \u001B[32m━━━━━━━━━━━━━━━━━━━━\u001B[0m\u001B[37m\u001B[0m \u001B[1m0s\u001B[0m 580us/step - accuracy: 0.7939 - loss: 0.4381 - val_accuracy: 0.7765 - val_loss: 0.7782\n",
      "Epoch 10/150\n",
      "\u001B[1m398/398\u001B[0m \u001B[32m━━━━━━━━━━━━━━━━━━━━\u001B[0m\u001B[37m\u001B[0m \u001B[1m0s\u001B[0m 601us/step - accuracy: 0.7993 - loss: 0.4301 - val_accuracy: 0.8115 - val_loss: 0.4402\n",
      "Epoch 11/150\n",
      "\u001B[1m398/398\u001B[0m \u001B[32m━━━━━━━━━━━━━━━━━━━━\u001B[0m\u001B[37m\u001B[0m \u001B[1m0s\u001B[0m 610us/step - accuracy: 0.7981 - loss: 0.4399 - val_accuracy: 0.5640 - val_loss: 0.7600\n",
      "Epoch 12/150\n",
      "\u001B[1m398/398\u001B[0m \u001B[32m━━━━━━━━━━━━━━━━━━━━\u001B[0m\u001B[37m\u001B[0m \u001B[1m0s\u001B[0m 611us/step - accuracy: 0.8043 - loss: 0.4311 - val_accuracy: 0.7015 - val_loss: 0.6341\n",
      "Epoch 13/150\n",
      "\u001B[1m398/398\u001B[0m \u001B[32m━━━━━━━━━━━━━━━━━━━━\u001B[0m\u001B[37m\u001B[0m \u001B[1m0s\u001B[0m 588us/step - accuracy: 0.7907 - loss: 0.4461 - val_accuracy: 0.8505 - val_loss: 0.3910\n",
      "Epoch 14/150\n",
      "\u001B[1m398/398\u001B[0m \u001B[32m━━━━━━━━━━━━━━━━━━━━\u001B[0m\u001B[37m\u001B[0m \u001B[1m0s\u001B[0m 597us/step - accuracy: 0.8062 - loss: 0.4323 - val_accuracy: 0.8390 - val_loss: 0.3921\n",
      "Epoch 15/150\n",
      "\u001B[1m398/398\u001B[0m \u001B[32m━━━━━━━━━━━━━━━━━━━━\u001B[0m\u001B[37m\u001B[0m \u001B[1m0s\u001B[0m 593us/step - accuracy: 0.7984 - loss: 0.4396 - val_accuracy: 0.7750 - val_loss: 0.4841\n",
      "Epoch 16/150\n",
      "\u001B[1m398/398\u001B[0m \u001B[32m━━━━━━━━━━━━━━━━━━━━\u001B[0m\u001B[37m\u001B[0m \u001B[1m0s\u001B[0m 590us/step - accuracy: 0.8027 - loss: 0.4563 - val_accuracy: 0.8330 - val_loss: 0.3966\n",
      "Epoch 17/150\n",
      "\u001B[1m398/398\u001B[0m \u001B[32m━━━━━━━━━━━━━━━━━━━━\u001B[0m\u001B[37m\u001B[0m \u001B[1m0s\u001B[0m 595us/step - accuracy: 0.7951 - loss: 0.4556 - val_accuracy: 0.7590 - val_loss: 0.5231\n",
      "Epoch 18/150\n",
      "\u001B[1m398/398\u001B[0m \u001B[32m━━━━━━━━━━━━━━━━━━━━\u001B[0m\u001B[37m\u001B[0m \u001B[1m0s\u001B[0m 586us/step - accuracy: 0.7967 - loss: 0.4408 - val_accuracy: 0.8220 - val_loss: 0.5470\n",
      "Epoch 19/150\n",
      "\u001B[1m398/398\u001B[0m \u001B[32m━━━━━━━━━━━━━━━━━━━━\u001B[0m\u001B[37m\u001B[0m \u001B[1m0s\u001B[0m 588us/step - accuracy: 0.7968 - loss: 0.4486 - val_accuracy: 0.8515 - val_loss: 0.3788\n",
      "Epoch 20/150\n",
      "\u001B[1m398/398\u001B[0m \u001B[32m━━━━━━━━━━━━━━━━━━━━\u001B[0m\u001B[37m\u001B[0m \u001B[1m0s\u001B[0m 588us/step - accuracy: 0.7948 - loss: 0.4416 - val_accuracy: 0.7805 - val_loss: 0.4954\n",
      "Epoch 21/150\n",
      "\u001B[1m398/398\u001B[0m \u001B[32m━━━━━━━━━━━━━━━━━━━━\u001B[0m\u001B[37m\u001B[0m \u001B[1m0s\u001B[0m 589us/step - accuracy: 0.7977 - loss: 0.4380 - val_accuracy: 0.8195 - val_loss: 0.4204\n",
      "Epoch 22/150\n",
      "\u001B[1m398/398\u001B[0m \u001B[32m━━━━━━━━━━━━━━━━━━━━\u001B[0m\u001B[37m\u001B[0m \u001B[1m0s\u001B[0m 593us/step - accuracy: 0.7903 - loss: 0.4443 - val_accuracy: 0.7870 - val_loss: 0.5940\n",
      "Epoch 23/150\n",
      "\u001B[1m398/398\u001B[0m \u001B[32m━━━━━━━━━━━━━━━━━━━━\u001B[0m\u001B[37m\u001B[0m \u001B[1m0s\u001B[0m 594us/step - accuracy: 0.7994 - loss: 0.4280 - val_accuracy: 0.7655 - val_loss: 0.5255\n",
      "Epoch 24/150\n",
      "\u001B[1m398/398\u001B[0m \u001B[32m━━━━━━━━━━━━━━━━━━━━\u001B[0m\u001B[37m\u001B[0m \u001B[1m0s\u001B[0m 588us/step - accuracy: 0.7947 - loss: 0.4360 - val_accuracy: 0.7255 - val_loss: 0.5583\n",
      "Epoch 25/150\n",
      "\u001B[1m398/398\u001B[0m \u001B[32m━━━━━━━━━━━━━━━━━━━━\u001B[0m\u001B[37m\u001B[0m \u001B[1m0s\u001B[0m 593us/step - accuracy: 0.7886 - loss: 0.4578 - val_accuracy: 0.8220 - val_loss: 0.4082\n",
      "Epoch 26/150\n",
      "\u001B[1m398/398\u001B[0m \u001B[32m━━━━━━━━━━━━━━━━━━━━\u001B[0m\u001B[37m\u001B[0m \u001B[1m0s\u001B[0m 593us/step - accuracy: 0.8013 - loss: 0.4351 - val_accuracy: 0.8270 - val_loss: 0.4172\n",
      "Epoch 27/150\n",
      "\u001B[1m398/398\u001B[0m \u001B[32m━━━━━━━━━━━━━━━━━━━━\u001B[0m\u001B[37m\u001B[0m \u001B[1m0s\u001B[0m 591us/step - accuracy: 0.8020 - loss: 0.4297 - val_accuracy: 0.8535 - val_loss: 0.3674\n",
      "Epoch 28/150\n",
      "\u001B[1m398/398\u001B[0m \u001B[32m━━━━━━━━━━━━━━━━━━━━\u001B[0m\u001B[37m\u001B[0m \u001B[1m0s\u001B[0m 588us/step - accuracy: 0.7919 - loss: 0.4562 - val_accuracy: 0.7170 - val_loss: 0.5452\n",
      "Epoch 29/150\n",
      "\u001B[1m398/398\u001B[0m \u001B[32m━━━━━━━━━━━━━━━━━━━━\u001B[0m\u001B[37m\u001B[0m \u001B[1m0s\u001B[0m 594us/step - accuracy: 0.8017 - loss: 0.4349 - val_accuracy: 0.7665 - val_loss: 0.4945\n",
      "Epoch 30/150\n",
      "\u001B[1m398/398\u001B[0m \u001B[32m━━━━━━━━━━━━━━━━━━━━\u001B[0m\u001B[37m\u001B[0m \u001B[1m0s\u001B[0m 589us/step - accuracy: 0.7951 - loss: 0.4358 - val_accuracy: 0.7425 - val_loss: 0.4882\n",
      "Epoch 31/150\n",
      "\u001B[1m398/398\u001B[0m \u001B[32m━━━━━━━━━━━━━━━━━━━━\u001B[0m\u001B[37m\u001B[0m \u001B[1m0s\u001B[0m 595us/step - accuracy: 0.8001 - loss: 0.4335 - val_accuracy: 0.7340 - val_loss: 0.5545\n",
      "Epoch 32/150\n",
      "\u001B[1m398/398\u001B[0m \u001B[32m━━━━━━━━━━━━━━━━━━━━\u001B[0m\u001B[37m\u001B[0m \u001B[1m0s\u001B[0m 598us/step - accuracy: 0.7850 - loss: 0.4711 - val_accuracy: 0.8295 - val_loss: 0.3869\n",
      "Epoch 33/150\n",
      "\u001B[1m398/398\u001B[0m \u001B[32m━━━━━━━━━━━━━━━━━━━━\u001B[0m\u001B[37m\u001B[0m \u001B[1m0s\u001B[0m 600us/step - accuracy: 0.7993 - loss: 0.4318 - val_accuracy: 0.7625 - val_loss: 0.4794\n",
      "Epoch 34/150\n",
      "\u001B[1m398/398\u001B[0m \u001B[32m━━━━━━━━━━━━━━━━━━━━\u001B[0m\u001B[37m\u001B[0m \u001B[1m0s\u001B[0m 593us/step - accuracy: 0.7934 - loss: 0.4362 - val_accuracy: 0.7150 - val_loss: 0.5678\n",
      "Epoch 35/150\n",
      "\u001B[1m398/398\u001B[0m \u001B[32m━━━━━━━━━━━━━━━━━━━━\u001B[0m\u001B[37m\u001B[0m \u001B[1m0s\u001B[0m 598us/step - accuracy: 0.8079 - loss: 0.4293 - val_accuracy: 0.7795 - val_loss: 0.4861\n",
      "Epoch 36/150\n",
      "\u001B[1m398/398\u001B[0m \u001B[32m━━━━━━━━━━━━━━━━━━━━\u001B[0m\u001B[37m\u001B[0m \u001B[1m0s\u001B[0m 594us/step - accuracy: 0.8080 - loss: 0.4300 - val_accuracy: 0.7545 - val_loss: 0.4966\n",
      "Epoch 37/150\n",
      "\u001B[1m398/398\u001B[0m \u001B[32m━━━━━━━━━━━━━━━━━━━━\u001B[0m\u001B[37m\u001B[0m \u001B[1m0s\u001B[0m 646us/step - accuracy: 0.8135 - loss: 0.4212 - val_accuracy: 0.8345 - val_loss: 0.3943\n",
      "Epoch 38/150\n",
      "\u001B[1m398/398\u001B[0m \u001B[32m━━━━━━━━━━━━━━━━━━━━\u001B[0m\u001B[37m\u001B[0m \u001B[1m0s\u001B[0m 704us/step - accuracy: 0.7976 - loss: 0.4384 - val_accuracy: 0.8510 - val_loss: 0.3665\n",
      "Epoch 39/150\n",
      "\u001B[1m398/398\u001B[0m \u001B[32m━━━━━━━━━━━━━━━━━━━━\u001B[0m\u001B[37m\u001B[0m \u001B[1m0s\u001B[0m 603us/step - accuracy: 0.7941 - loss: 0.4367 - val_accuracy: 0.8375 - val_loss: 0.5103\n",
      "Epoch 40/150\n",
      "\u001B[1m398/398\u001B[0m \u001B[32m━━━━━━━━━━━━━━━━━━━━\u001B[0m\u001B[37m\u001B[0m \u001B[1m0s\u001B[0m 594us/step - accuracy: 0.7992 - loss: 0.4444 - val_accuracy: 0.8230 - val_loss: 0.6688\n",
      "Epoch 41/150\n",
      "\u001B[1m398/398\u001B[0m \u001B[32m━━━━━━━━━━━━━━━━━━━━\u001B[0m\u001B[37m\u001B[0m \u001B[1m0s\u001B[0m 593us/step - accuracy: 0.8023 - loss: 0.4414 - val_accuracy: 0.8565 - val_loss: 0.3796\n",
      "Epoch 42/150\n",
      "\u001B[1m398/398\u001B[0m \u001B[32m━━━━━━━━━━━━━━━━━━━━\u001B[0m\u001B[37m\u001B[0m \u001B[1m0s\u001B[0m 592us/step - accuracy: 0.7989 - loss: 0.4502 - val_accuracy: 0.8490 - val_loss: 0.3661\n",
      "Epoch 43/150\n",
      "\u001B[1m398/398\u001B[0m \u001B[32m━━━━━━━━━━━━━━━━━━━━\u001B[0m\u001B[37m\u001B[0m \u001B[1m0s\u001B[0m 592us/step - accuracy: 0.7997 - loss: 0.4337 - val_accuracy: 0.7890 - val_loss: 0.4418\n",
      "Epoch 44/150\n",
      "\u001B[1m398/398\u001B[0m \u001B[32m━━━━━━━━━━━━━━━━━━━━\u001B[0m\u001B[37m\u001B[0m \u001B[1m0s\u001B[0m 592us/step - accuracy: 0.8070 - loss: 0.4238 - val_accuracy: 0.8095 - val_loss: 0.5442\n",
      "Epoch 45/150\n",
      "\u001B[1m398/398\u001B[0m \u001B[32m━━━━━━━━━━━━━━━━━━━━\u001B[0m\u001B[37m\u001B[0m \u001B[1m0s\u001B[0m 588us/step - accuracy: 0.8074 - loss: 0.4277 - val_accuracy: 0.7955 - val_loss: 0.4412\n",
      "Epoch 46/150\n",
      "\u001B[1m398/398\u001B[0m \u001B[32m━━━━━━━━━━━━━━━━━━━━\u001B[0m\u001B[37m\u001B[0m \u001B[1m0s\u001B[0m 591us/step - accuracy: 0.8042 - loss: 0.4338 - val_accuracy: 0.7145 - val_loss: 0.5295\n",
      "Epoch 47/150\n",
      "\u001B[1m398/398\u001B[0m \u001B[32m━━━━━━━━━━━━━━━━━━━━\u001B[0m\u001B[37m\u001B[0m \u001B[1m0s\u001B[0m 600us/step - accuracy: 0.7968 - loss: 0.4353 - val_accuracy: 0.8365 - val_loss: 0.4324\n",
      "Epoch 48/150\n",
      "\u001B[1m398/398\u001B[0m \u001B[32m━━━━━━━━━━━━━━━━━━━━\u001B[0m\u001B[37m\u001B[0m \u001B[1m0s\u001B[0m 593us/step - accuracy: 0.7916 - loss: 0.4616 - val_accuracy: 0.6560 - val_loss: 0.6868\n",
      "Epoch 49/150\n",
      "\u001B[1m398/398\u001B[0m \u001B[32m━━━━━━━━━━━━━━━━━━━━\u001B[0m\u001B[37m\u001B[0m \u001B[1m0s\u001B[0m 596us/step - accuracy: 0.7945 - loss: 0.4450 - val_accuracy: 0.7765 - val_loss: 0.4769\n",
      "Epoch 50/150\n",
      "\u001B[1m398/398\u001B[0m \u001B[32m━━━━━━━━━━━━━━━━━━━━\u001B[0m\u001B[37m\u001B[0m \u001B[1m0s\u001B[0m 592us/step - accuracy: 0.8059 - loss: 0.4280 - val_accuracy: 0.7840 - val_loss: 0.6602\n",
      "Epoch 51/150\n",
      "\u001B[1m398/398\u001B[0m \u001B[32m━━━━━━━━━━━━━━━━━━━━\u001B[0m\u001B[37m\u001B[0m \u001B[1m0s\u001B[0m 595us/step - accuracy: 0.7934 - loss: 0.4439 - val_accuracy: 0.7855 - val_loss: 0.4626\n",
      "Epoch 52/150\n",
      "\u001B[1m398/398\u001B[0m \u001B[32m━━━━━━━━━━━━━━━━━━━━\u001B[0m\u001B[37m\u001B[0m \u001B[1m0s\u001B[0m 594us/step - accuracy: 0.8026 - loss: 0.4421 - val_accuracy: 0.8355 - val_loss: 0.4031\n",
      "Epoch 53/150\n",
      "\u001B[1m398/398\u001B[0m \u001B[32m━━━━━━━━━━━━━━━━━━━━\u001B[0m\u001B[37m\u001B[0m \u001B[1m0s\u001B[0m 593us/step - accuracy: 0.7961 - loss: 0.4501 - val_accuracy: 0.7670 - val_loss: 0.4707\n",
      "Epoch 54/150\n",
      "\u001B[1m398/398\u001B[0m \u001B[32m━━━━━━━━━━━━━━━━━━━━\u001B[0m\u001B[37m\u001B[0m \u001B[1m0s\u001B[0m 593us/step - accuracy: 0.7991 - loss: 0.4410 - val_accuracy: 0.8650 - val_loss: 0.3491\n",
      "Epoch 55/150\n",
      "\u001B[1m398/398\u001B[0m \u001B[32m━━━━━━━━━━━━━━━━━━━━\u001B[0m\u001B[37m\u001B[0m \u001B[1m0s\u001B[0m 597us/step - accuracy: 0.8051 - loss: 0.4264 - val_accuracy: 0.7185 - val_loss: 0.5715\n",
      "Epoch 56/150\n",
      "\u001B[1m398/398\u001B[0m \u001B[32m━━━━━━━━━━━━━━━━━━━━\u001B[0m\u001B[37m\u001B[0m \u001B[1m0s\u001B[0m 593us/step - accuracy: 0.7960 - loss: 0.4428 - val_accuracy: 0.8475 - val_loss: 0.4011\n",
      "Epoch 57/150\n",
      "\u001B[1m398/398\u001B[0m \u001B[32m━━━━━━━━━━━━━━━━━━━━\u001B[0m\u001B[37m\u001B[0m \u001B[1m0s\u001B[0m 596us/step - accuracy: 0.8002 - loss: 0.4300 - val_accuracy: 0.7250 - val_loss: 0.5032\n",
      "Epoch 58/150\n",
      "\u001B[1m398/398\u001B[0m \u001B[32m━━━━━━━━━━━━━━━━━━━━\u001B[0m\u001B[37m\u001B[0m \u001B[1m0s\u001B[0m 592us/step - accuracy: 0.8010 - loss: 0.4494 - val_accuracy: 0.5990 - val_loss: 0.7260\n",
      "Epoch 59/150\n",
      "\u001B[1m398/398\u001B[0m \u001B[32m━━━━━━━━━━━━━━━━━━━━\u001B[0m\u001B[37m\u001B[0m \u001B[1m0s\u001B[0m 595us/step - accuracy: 0.7922 - loss: 0.4462 - val_accuracy: 0.8175 - val_loss: 0.4148\n",
      "Epoch 60/150\n",
      "\u001B[1m398/398\u001B[0m \u001B[32m━━━━━━━━━━━━━━━━━━━━\u001B[0m\u001B[37m\u001B[0m \u001B[1m0s\u001B[0m 591us/step - accuracy: 0.8081 - loss: 0.4356 - val_accuracy: 0.8170 - val_loss: 0.4273\n",
      "Epoch 61/150\n",
      "\u001B[1m398/398\u001B[0m \u001B[32m━━━━━━━━━━━━━━━━━━━━\u001B[0m\u001B[37m\u001B[0m \u001B[1m0s\u001B[0m 591us/step - accuracy: 0.7982 - loss: 0.4444 - val_accuracy: 0.6985 - val_loss: 0.5775\n",
      "Epoch 62/150\n",
      "\u001B[1m398/398\u001B[0m \u001B[32m━━━━━━━━━━━━━━━━━━━━\u001B[0m\u001B[37m\u001B[0m \u001B[1m0s\u001B[0m 589us/step - accuracy: 0.8039 - loss: 0.4263 - val_accuracy: 0.6980 - val_loss: 0.5816\n",
      "Epoch 63/150\n",
      "\u001B[1m398/398\u001B[0m \u001B[32m━━━━━━━━━━━━━━━━━━━━\u001B[0m\u001B[37m\u001B[0m \u001B[1m0s\u001B[0m 590us/step - accuracy: 0.7923 - loss: 0.4546 - val_accuracy: 0.8245 - val_loss: 0.3907\n",
      "Epoch 64/150\n",
      "\u001B[1m398/398\u001B[0m \u001B[32m━━━━━━━━━━━━━━━━━━━━\u001B[0m\u001B[37m\u001B[0m \u001B[1m0s\u001B[0m 600us/step - accuracy: 0.7918 - loss: 0.4537 - val_accuracy: 0.8610 - val_loss: 0.3598\n",
      "Epoch 65/150\n",
      "\u001B[1m398/398\u001B[0m \u001B[32m━━━━━━━━━━━━━━━━━━━━\u001B[0m\u001B[37m\u001B[0m \u001B[1m0s\u001B[0m 591us/step - accuracy: 0.7991 - loss: 0.4365 - val_accuracy: 0.8035 - val_loss: 0.4353\n",
      "Epoch 66/150\n",
      "\u001B[1m398/398\u001B[0m \u001B[32m━━━━━━━━━━━━━━━━━━━━\u001B[0m\u001B[37m\u001B[0m \u001B[1m0s\u001B[0m 599us/step - accuracy: 0.8008 - loss: 0.4284 - val_accuracy: 0.7030 - val_loss: 0.5641\n",
      "Epoch 67/150\n",
      "\u001B[1m398/398\u001B[0m \u001B[32m━━━━━━━━━━━━━━━━━━━━\u001B[0m\u001B[37m\u001B[0m \u001B[1m0s\u001B[0m 590us/step - accuracy: 0.7990 - loss: 0.4529 - val_accuracy: 0.8170 - val_loss: 0.4248\n",
      "Epoch 68/150\n",
      "\u001B[1m398/398\u001B[0m \u001B[32m━━━━━━━━━━━━━━━━━━━━\u001B[0m\u001B[37m\u001B[0m \u001B[1m0s\u001B[0m 600us/step - accuracy: 0.7990 - loss: 0.4311 - val_accuracy: 0.8100 - val_loss: 0.4151\n",
      "Epoch 69/150\n",
      "\u001B[1m398/398\u001B[0m \u001B[32m━━━━━━━━━━━━━━━━━━━━\u001B[0m\u001B[37m\u001B[0m \u001B[1m0s\u001B[0m 592us/step - accuracy: 0.7956 - loss: 0.4440 - val_accuracy: 0.8010 - val_loss: 0.4431\n",
      "Epoch 70/150\n",
      "\u001B[1m398/398\u001B[0m \u001B[32m━━━━━━━━━━━━━━━━━━━━\u001B[0m\u001B[37m\u001B[0m \u001B[1m0s\u001B[0m 598us/step - accuracy: 0.8033 - loss: 0.4257 - val_accuracy: 0.7750 - val_loss: 0.4624\n",
      "Epoch 71/150\n",
      "\u001B[1m398/398\u001B[0m \u001B[32m━━━━━━━━━━━━━━━━━━━━\u001B[0m\u001B[37m\u001B[0m \u001B[1m0s\u001B[0m 593us/step - accuracy: 0.8050 - loss: 0.4291 - val_accuracy: 0.7085 - val_loss: 0.6247\n",
      "Epoch 72/150\n",
      "\u001B[1m398/398\u001B[0m \u001B[32m━━━━━━━━━━━━━━━━━━━━\u001B[0m\u001B[37m\u001B[0m \u001B[1m0s\u001B[0m 595us/step - accuracy: 0.8027 - loss: 0.4341 - val_accuracy: 0.8490 - val_loss: 0.4075\n",
      "Epoch 73/150\n",
      "\u001B[1m398/398\u001B[0m \u001B[32m━━━━━━━━━━━━━━━━━━━━\u001B[0m\u001B[37m\u001B[0m \u001B[1m0s\u001B[0m 593us/step - accuracy: 0.7988 - loss: 0.4371 - val_accuracy: 0.7485 - val_loss: 0.5155\n",
      "Epoch 74/150\n",
      "\u001B[1m398/398\u001B[0m \u001B[32m━━━━━━━━━━━━━━━━━━━━\u001B[0m\u001B[37m\u001B[0m \u001B[1m0s\u001B[0m 596us/step - accuracy: 0.7934 - loss: 0.4544 - val_accuracy: 0.8390 - val_loss: 1.2274\n",
      "Epoch 75/150\n",
      "\u001B[1m398/398\u001B[0m \u001B[32m━━━━━━━━━━━━━━━━━━━━\u001B[0m\u001B[37m\u001B[0m \u001B[1m0s\u001B[0m 592us/step - accuracy: 0.7992 - loss: 0.4402 - val_accuracy: 0.6195 - val_loss: 0.7373\n",
      "Epoch 76/150\n",
      "\u001B[1m398/398\u001B[0m \u001B[32m━━━━━━━━━━━━━━━━━━━━\u001B[0m\u001B[37m\u001B[0m \u001B[1m0s\u001B[0m 600us/step - accuracy: 0.7986 - loss: 0.4423 - val_accuracy: 0.8590 - val_loss: 0.4009\n",
      "Epoch 77/150\n",
      "\u001B[1m398/398\u001B[0m \u001B[32m━━━━━━━━━━━━━━━━━━━━\u001B[0m\u001B[37m\u001B[0m \u001B[1m0s\u001B[0m 592us/step - accuracy: 0.7942 - loss: 0.4547 - val_accuracy: 0.6765 - val_loss: 79.4839\n",
      "Epoch 78/150\n",
      "\u001B[1m398/398\u001B[0m \u001B[32m━━━━━━━━━━━━━━━━━━━━\u001B[0m\u001B[37m\u001B[0m \u001B[1m0s\u001B[0m 595us/step - accuracy: 0.8103 - loss: 0.4172 - val_accuracy: 0.7435 - val_loss: 47.9439\n",
      "Epoch 79/150\n",
      "\u001B[1m398/398\u001B[0m \u001B[32m━━━━━━━━━━━━━━━━━━━━\u001B[0m\u001B[37m\u001B[0m \u001B[1m0s\u001B[0m 591us/step - accuracy: 0.7943 - loss: 0.4489 - val_accuracy: 0.8060 - val_loss: 0.4503\n",
      "Epoch 80/150\n",
      "\u001B[1m398/398\u001B[0m \u001B[32m━━━━━━━━━━━━━━━━━━━━\u001B[0m\u001B[37m\u001B[0m \u001B[1m0s\u001B[0m 599us/step - accuracy: 0.7975 - loss: 0.4457 - val_accuracy: 0.7605 - val_loss: 0.4844\n",
      "Epoch 81/150\n",
      "\u001B[1m398/398\u001B[0m \u001B[32m━━━━━━━━━━━━━━━━━━━━\u001B[0m\u001B[37m\u001B[0m \u001B[1m0s\u001B[0m 592us/step - accuracy: 0.8073 - loss: 0.4223 - val_accuracy: 0.6980 - val_loss: 0.6021\n",
      "Epoch 82/150\n",
      "\u001B[1m398/398\u001B[0m \u001B[32m━━━━━━━━━━━━━━━━━━━━\u001B[0m\u001B[37m\u001B[0m \u001B[1m0s\u001B[0m 593us/step - accuracy: 0.7954 - loss: 0.4524 - val_accuracy: 0.8515 - val_loss: 0.3711\n",
      "Epoch 83/150\n",
      "\u001B[1m398/398\u001B[0m \u001B[32m━━━━━━━━━━━━━━━━━━━━\u001B[0m\u001B[37m\u001B[0m \u001B[1m0s\u001B[0m 593us/step - accuracy: 0.7985 - loss: 0.4243 - val_accuracy: 0.8260 - val_loss: 0.3931\n",
      "Epoch 84/150\n",
      "\u001B[1m398/398\u001B[0m \u001B[32m━━━━━━━━━━━━━━━━━━━━\u001B[0m\u001B[37m\u001B[0m \u001B[1m0s\u001B[0m 599us/step - accuracy: 0.8172 - loss: 0.4097 - val_accuracy: 0.7530 - val_loss: 0.5396\n",
      "Epoch 85/150\n",
      "\u001B[1m398/398\u001B[0m \u001B[32m━━━━━━━━━━━━━━━━━━━━\u001B[0m\u001B[37m\u001B[0m \u001B[1m0s\u001B[0m 591us/step - accuracy: 0.8037 - loss: 0.4235 - val_accuracy: 0.8315 - val_loss: 0.4067\n",
      "Epoch 86/150\n",
      "\u001B[1m398/398\u001B[0m \u001B[32m━━━━━━━━━━━━━━━━━━━━\u001B[0m\u001B[37m\u001B[0m \u001B[1m0s\u001B[0m 616us/step - accuracy: 0.8066 - loss: 0.4249 - val_accuracy: 0.8095 - val_loss: 0.4170\n",
      "Epoch 87/150\n",
      "\u001B[1m398/398\u001B[0m \u001B[32m━━━━━━━━━━━━━━━━━━━━\u001B[0m\u001B[37m\u001B[0m \u001B[1m0s\u001B[0m 593us/step - accuracy: 0.8037 - loss: 0.4236 - val_accuracy: 0.8555 - val_loss: 0.3789\n",
      "Epoch 88/150\n",
      "\u001B[1m398/398\u001B[0m \u001B[32m━━━━━━━━━━━━━━━━━━━━\u001B[0m\u001B[37m\u001B[0m \u001B[1m0s\u001B[0m 596us/step - accuracy: 0.8026 - loss: 0.4451 - val_accuracy: 0.7700 - val_loss: 0.6899\n",
      "Epoch 89/150\n",
      "\u001B[1m398/398\u001B[0m \u001B[32m━━━━━━━━━━━━━━━━━━━━\u001B[0m\u001B[37m\u001B[0m \u001B[1m0s\u001B[0m 591us/step - accuracy: 0.7944 - loss: 0.4432 - val_accuracy: 0.8100 - val_loss: 0.4270\n",
      "Epoch 90/150\n",
      "\u001B[1m398/398\u001B[0m \u001B[32m━━━━━━━━━━━━━━━━━━━━\u001B[0m\u001B[37m\u001B[0m \u001B[1m0s\u001B[0m 591us/step - accuracy: 0.8065 - loss: 0.4353 - val_accuracy: 0.4105 - val_loss: 1.2517\n",
      "Epoch 91/150\n",
      "\u001B[1m398/398\u001B[0m \u001B[32m━━━━━━━━━━━━━━━━━━━━\u001B[0m\u001B[37m\u001B[0m \u001B[1m0s\u001B[0m 595us/step - accuracy: 0.7906 - loss: 0.4616 - val_accuracy: 0.6970 - val_loss: 0.6241\n",
      "Epoch 92/150\n",
      "\u001B[1m398/398\u001B[0m \u001B[32m━━━━━━━━━━━━━━━━━━━━\u001B[0m\u001B[37m\u001B[0m \u001B[1m0s\u001B[0m 594us/step - accuracy: 0.7989 - loss: 0.4377 - val_accuracy: 0.8480 - val_loss: 0.3969\n",
      "Epoch 93/150\n",
      "\u001B[1m398/398\u001B[0m \u001B[32m━━━━━━━━━━━━━━━━━━━━\u001B[0m\u001B[37m\u001B[0m \u001B[1m0s\u001B[0m 592us/step - accuracy: 0.8107 - loss: 0.4224 - val_accuracy: 0.7630 - val_loss: 0.4801\n",
      "Epoch 94/150\n",
      "\u001B[1m398/398\u001B[0m \u001B[32m━━━━━━━━━━━━━━━━━━━━\u001B[0m\u001B[37m\u001B[0m \u001B[1m0s\u001B[0m 592us/step - accuracy: 0.7999 - loss: 0.4358 - val_accuracy: 0.8125 - val_loss: 0.4452\n",
      "Epoch 95/150\n",
      "\u001B[1m398/398\u001B[0m \u001B[32m━━━━━━━━━━━━━━━━━━━━\u001B[0m\u001B[37m\u001B[0m \u001B[1m0s\u001B[0m 591us/step - accuracy: 0.8004 - loss: 0.4454 - val_accuracy: 0.7645 - val_loss: 0.4859\n",
      "Epoch 96/150\n",
      "\u001B[1m398/398\u001B[0m \u001B[32m━━━━━━━━━━━━━━━━━━━━\u001B[0m\u001B[37m\u001B[0m \u001B[1m0s\u001B[0m 590us/step - accuracy: 0.8039 - loss: 0.4266 - val_accuracy: 0.7565 - val_loss: 0.4905\n",
      "Epoch 97/150\n",
      "\u001B[1m398/398\u001B[0m \u001B[32m━━━━━━━━━━━━━━━━━━━━\u001B[0m\u001B[37m\u001B[0m \u001B[1m0s\u001B[0m 598us/step - accuracy: 0.8079 - loss: 0.4250 - val_accuracy: 0.7425 - val_loss: 0.5263\n",
      "Epoch 98/150\n",
      "\u001B[1m398/398\u001B[0m \u001B[32m━━━━━━━━━━━━━━━━━━━━\u001B[0m\u001B[37m\u001B[0m \u001B[1m0s\u001B[0m 596us/step - accuracy: 0.8042 - loss: 0.4273 - val_accuracy: 0.7215 - val_loss: 0.5762\n",
      "Epoch 99/150\n",
      "\u001B[1m398/398\u001B[0m \u001B[32m━━━━━━━━━━━━━━━━━━━━\u001B[0m\u001B[37m\u001B[0m \u001B[1m0s\u001B[0m 600us/step - accuracy: 0.8023 - loss: 0.4312 - val_accuracy: 0.8080 - val_loss: 0.4364\n",
      "Epoch 100/150\n",
      "\u001B[1m398/398\u001B[0m \u001B[32m━━━━━━━━━━━━━━━━━━━━\u001B[0m\u001B[37m\u001B[0m \u001B[1m0s\u001B[0m 593us/step - accuracy: 0.8145 - loss: 0.4087 - val_accuracy: 0.7190 - val_loss: 0.7003\n",
      "Epoch 101/150\n",
      "\u001B[1m398/398\u001B[0m \u001B[32m━━━━━━━━━━━━━━━━━━━━\u001B[0m\u001B[37m\u001B[0m \u001B[1m0s\u001B[0m 604us/step - accuracy: 0.8078 - loss: 0.4210 - val_accuracy: 0.7935 - val_loss: 0.4596\n",
      "Epoch 102/150\n",
      "\u001B[1m398/398\u001B[0m \u001B[32m━━━━━━━━━━━━━━━━━━━━\u001B[0m\u001B[37m\u001B[0m \u001B[1m0s\u001B[0m 592us/step - accuracy: 0.8082 - loss: 0.4165 - val_accuracy: 0.8245 - val_loss: 0.4857\n",
      "Epoch 103/150\n",
      "\u001B[1m398/398\u001B[0m \u001B[32m━━━━━━━━━━━━━━━━━━━━\u001B[0m\u001B[37m\u001B[0m \u001B[1m0s\u001B[0m 598us/step - accuracy: 0.7926 - loss: 0.4408 - val_accuracy: 0.8310 - val_loss: 4.5917\n",
      "Epoch 104/150\n",
      "\u001B[1m398/398\u001B[0m \u001B[32m━━━━━━━━━━━━━━━━━━━━\u001B[0m\u001B[37m\u001B[0m \u001B[1m0s\u001B[0m 589us/step - accuracy: 0.7946 - loss: 0.4457 - val_accuracy: 0.8200 - val_loss: 0.4672\n",
      "Epoch 105/150\n",
      "\u001B[1m398/398\u001B[0m \u001B[32m━━━━━━━━━━━━━━━━━━━━\u001B[0m\u001B[37m\u001B[0m \u001B[1m0s\u001B[0m 595us/step - accuracy: 0.7957 - loss: 0.4436 - val_accuracy: 0.7440 - val_loss: 0.5922\n",
      "Epoch 106/150\n",
      "\u001B[1m398/398\u001B[0m \u001B[32m━━━━━━━━━━━━━━━━━━━━\u001B[0m\u001B[37m\u001B[0m \u001B[1m0s\u001B[0m 592us/step - accuracy: 0.7952 - loss: 0.4459 - val_accuracy: 0.8250 - val_loss: 0.4601\n",
      "Epoch 107/150\n",
      "\u001B[1m398/398\u001B[0m \u001B[32m━━━━━━━━━━━━━━━━━━━━\u001B[0m\u001B[37m\u001B[0m \u001B[1m0s\u001B[0m 598us/step - accuracy: 0.8021 - loss: 0.4257 - val_accuracy: 0.7990 - val_loss: 0.4383\n",
      "Epoch 108/150\n",
      "\u001B[1m398/398\u001B[0m \u001B[32m━━━━━━━━━━━━━━━━━━━━\u001B[0m\u001B[37m\u001B[0m \u001B[1m0s\u001B[0m 588us/step - accuracy: 0.8155 - loss: 0.4133 - val_accuracy: 0.7685 - val_loss: 0.4807\n",
      "Epoch 109/150\n",
      "\u001B[1m398/398\u001B[0m \u001B[32m━━━━━━━━━━━━━━━━━━━━\u001B[0m\u001B[37m\u001B[0m \u001B[1m0s\u001B[0m 594us/step - accuracy: 0.8039 - loss: 0.4330 - val_accuracy: 0.7125 - val_loss: 0.5579\n",
      "Epoch 110/150\n",
      "\u001B[1m398/398\u001B[0m \u001B[32m━━━━━━━━━━━━━━━━━━━━\u001B[0m\u001B[37m\u001B[0m \u001B[1m0s\u001B[0m 592us/step - accuracy: 0.8094 - loss: 0.4101 - val_accuracy: 0.6700 - val_loss: 0.9818\n",
      "Epoch 111/150\n",
      "\u001B[1m398/398\u001B[0m \u001B[32m━━━━━━━━━━━━━━━━━━━━\u001B[0m\u001B[37m\u001B[0m \u001B[1m0s\u001B[0m 593us/step - accuracy: 0.7955 - loss: 0.4513 - val_accuracy: 0.7370 - val_loss: 0.5373\n",
      "Epoch 112/150\n",
      "\u001B[1m398/398\u001B[0m \u001B[32m━━━━━━━━━━━━━━━━━━━━\u001B[0m\u001B[37m\u001B[0m \u001B[1m0s\u001B[0m 592us/step - accuracy: 0.7991 - loss: 0.4354 - val_accuracy: 0.7805 - val_loss: 0.4535\n",
      "Epoch 113/150\n",
      "\u001B[1m398/398\u001B[0m \u001B[32m━━━━━━━━━━━━━━━━━━━━\u001B[0m\u001B[37m\u001B[0m \u001B[1m0s\u001B[0m 597us/step - accuracy: 0.8126 - loss: 0.4189 - val_accuracy: 0.7765 - val_loss: 0.5008\n",
      "Epoch 114/150\n",
      "\u001B[1m398/398\u001B[0m \u001B[32m━━━━━━━━━━━━━━━━━━━━\u001B[0m\u001B[37m\u001B[0m \u001B[1m0s\u001B[0m 590us/step - accuracy: 0.8073 - loss: 0.4310 - val_accuracy: 0.7400 - val_loss: 0.5406\n",
      "Epoch 115/150\n",
      "\u001B[1m398/398\u001B[0m \u001B[32m━━━━━━━━━━━━━━━━━━━━\u001B[0m\u001B[37m\u001B[0m \u001B[1m0s\u001B[0m 595us/step - accuracy: 0.8020 - loss: 0.4376 - val_accuracy: 0.7210 - val_loss: 0.7586\n",
      "Epoch 116/150\n",
      "\u001B[1m398/398\u001B[0m \u001B[32m━━━━━━━━━━━━━━━━━━━━\u001B[0m\u001B[37m\u001B[0m \u001B[1m0s\u001B[0m 581us/step - accuracy: 0.7963 - loss: 0.4439 - val_accuracy: 0.8350 - val_loss: 0.3889\n",
      "Epoch 117/150\n",
      "\u001B[1m398/398\u001B[0m \u001B[32m━━━━━━━━━━━━━━━━━━━━\u001B[0m\u001B[37m\u001B[0m \u001B[1m0s\u001B[0m 602us/step - accuracy: 0.8081 - loss: 0.4211 - val_accuracy: 0.7655 - val_loss: 0.4796\n",
      "Epoch 118/150\n",
      "\u001B[1m398/398\u001B[0m \u001B[32m━━━━━━━━━━━━━━━━━━━━\u001B[0m\u001B[37m\u001B[0m \u001B[1m0s\u001B[0m 596us/step - accuracy: 0.8081 - loss: 0.4233 - val_accuracy: 0.7895 - val_loss: 0.4580\n",
      "Epoch 119/150\n",
      "\u001B[1m398/398\u001B[0m \u001B[32m━━━━━━━━━━━━━━━━━━━━\u001B[0m\u001B[37m\u001B[0m \u001B[1m0s\u001B[0m 601us/step - accuracy: 0.8074 - loss: 0.4252 - val_accuracy: 0.7445 - val_loss: 0.5259\n",
      "Epoch 120/150\n",
      "\u001B[1m398/398\u001B[0m \u001B[32m━━━━━━━━━━━━━━━━━━━━\u001B[0m\u001B[37m\u001B[0m \u001B[1m0s\u001B[0m 591us/step - accuracy: 0.8015 - loss: 0.4405 - val_accuracy: 0.8195 - val_loss: 1.8656\n",
      "Epoch 121/150\n",
      "\u001B[1m398/398\u001B[0m \u001B[32m━━━━━━━━━━━━━━━━━━━━\u001B[0m\u001B[37m\u001B[0m \u001B[1m0s\u001B[0m 596us/step - accuracy: 0.8060 - loss: 0.4215 - val_accuracy: 0.7105 - val_loss: 0.5868\n",
      "Epoch 122/150\n",
      "\u001B[1m398/398\u001B[0m \u001B[32m━━━━━━━━━━━━━━━━━━━━\u001B[0m\u001B[37m\u001B[0m \u001B[1m0s\u001B[0m 596us/step - accuracy: 0.8072 - loss: 0.4306 - val_accuracy: 0.8005 - val_loss: 0.4316\n",
      "Epoch 123/150\n",
      "\u001B[1m398/398\u001B[0m \u001B[32m━━━━━━━━━━━━━━━━━━━━\u001B[0m\u001B[37m\u001B[0m \u001B[1m0s\u001B[0m 595us/step - accuracy: 0.8059 - loss: 0.4249 - val_accuracy: 0.8045 - val_loss: 0.4603\n",
      "Epoch 124/150\n",
      "\u001B[1m398/398\u001B[0m \u001B[32m━━━━━━━━━━━━━━━━━━━━\u001B[0m\u001B[37m\u001B[0m \u001B[1m0s\u001B[0m 593us/step - accuracy: 0.7960 - loss: 0.4532 - val_accuracy: 0.8440 - val_loss: 0.3907\n",
      "Epoch 125/150\n",
      "\u001B[1m398/398\u001B[0m \u001B[32m━━━━━━━━━━━━━━━━━━━━\u001B[0m\u001B[37m\u001B[0m \u001B[1m0s\u001B[0m 617us/step - accuracy: 0.8118 - loss: 0.4165 - val_accuracy: 0.7630 - val_loss: 0.6084\n",
      "Epoch 126/150\n",
      "\u001B[1m398/398\u001B[0m \u001B[32m━━━━━━━━━━━━━━━━━━━━\u001B[0m\u001B[37m\u001B[0m \u001B[1m0s\u001B[0m 588us/step - accuracy: 0.8054 - loss: 0.4278 - val_accuracy: 0.7800 - val_loss: 2.8176\n",
      "Epoch 127/150\n",
      "\u001B[1m398/398\u001B[0m \u001B[32m━━━━━━━━━━━━━━━━━━━━\u001B[0m\u001B[37m\u001B[0m \u001B[1m0s\u001B[0m 599us/step - accuracy: 0.8042 - loss: 0.4332 - val_accuracy: 0.4055 - val_loss: 1.1909\n",
      "Epoch 128/150\n",
      "\u001B[1m398/398\u001B[0m \u001B[32m━━━━━━━━━━━━━━━━━━━━\u001B[0m\u001B[37m\u001B[0m \u001B[1m0s\u001B[0m 597us/step - accuracy: 0.7951 - loss: 0.4542 - val_accuracy: 0.8440 - val_loss: 0.4174\n",
      "Epoch 129/150\n",
      "\u001B[1m398/398\u001B[0m \u001B[32m━━━━━━━━━━━━━━━━━━━━\u001B[0m\u001B[37m\u001B[0m \u001B[1m0s\u001B[0m 595us/step - accuracy: 0.7931 - loss: 0.4583 - val_accuracy: 0.8010 - val_loss: 0.4536\n",
      "Epoch 130/150\n",
      "\u001B[1m398/398\u001B[0m \u001B[32m━━━━━━━━━━━━━━━━━━━━\u001B[0m\u001B[37m\u001B[0m \u001B[1m0s\u001B[0m 595us/step - accuracy: 0.8063 - loss: 0.4445 - val_accuracy: 0.7345 - val_loss: 0.7068\n",
      "Epoch 131/150\n",
      "\u001B[1m398/398\u001B[0m \u001B[32m━━━━━━━━━━━━━━━━━━━━\u001B[0m\u001B[37m\u001B[0m \u001B[1m0s\u001B[0m 593us/step - accuracy: 0.8045 - loss: 0.4314 - val_accuracy: 0.8380 - val_loss: 0.5513\n",
      "Epoch 132/150\n",
      "\u001B[1m398/398\u001B[0m \u001B[32m━━━━━━━━━━━━━━━━━━━━\u001B[0m\u001B[37m\u001B[0m \u001B[1m0s\u001B[0m 597us/step - accuracy: 0.8070 - loss: 0.4322 - val_accuracy: 0.7560 - val_loss: 0.5264\n",
      "Epoch 133/150\n",
      "\u001B[1m398/398\u001B[0m \u001B[32m━━━━━━━━━━━━━━━━━━━━\u001B[0m\u001B[37m\u001B[0m \u001B[1m0s\u001B[0m 594us/step - accuracy: 0.8083 - loss: 0.4257 - val_accuracy: 0.7800 - val_loss: 0.4603\n",
      "Epoch 134/150\n",
      "\u001B[1m398/398\u001B[0m \u001B[32m━━━━━━━━━━━━━━━━━━━━\u001B[0m\u001B[37m\u001B[0m \u001B[1m0s\u001B[0m 598us/step - accuracy: 0.8043 - loss: 0.4218 - val_accuracy: 0.7285 - val_loss: 0.5642\n",
      "Epoch 135/150\n",
      "\u001B[1m398/398\u001B[0m \u001B[32m━━━━━━━━━━━━━━━━━━━━\u001B[0m\u001B[37m\u001B[0m \u001B[1m0s\u001B[0m 594us/step - accuracy: 0.8170 - loss: 0.4060 - val_accuracy: 0.7355 - val_loss: 0.5254\n",
      "Epoch 136/150\n",
      "\u001B[1m398/398\u001B[0m \u001B[32m━━━━━━━━━━━━━━━━━━━━\u001B[0m\u001B[37m\u001B[0m \u001B[1m0s\u001B[0m 595us/step - accuracy: 0.8059 - loss: 0.4333 - val_accuracy: 0.8400 - val_loss: 0.3948\n",
      "Epoch 137/150\n",
      "\u001B[1m398/398\u001B[0m \u001B[32m━━━━━━━━━━━━━━━━━━━━\u001B[0m\u001B[37m\u001B[0m \u001B[1m0s\u001B[0m 592us/step - accuracy: 0.8089 - loss: 0.4208 - val_accuracy: 0.6910 - val_loss: 0.6230\n",
      "Epoch 138/150\n",
      "\u001B[1m398/398\u001B[0m \u001B[32m━━━━━━━━━━━━━━━━━━━━\u001B[0m\u001B[37m\u001B[0m \u001B[1m0s\u001B[0m 598us/step - accuracy: 0.8160 - loss: 0.4177 - val_accuracy: 0.6600 - val_loss: 0.6765\n",
      "Epoch 139/150\n",
      "\u001B[1m398/398\u001B[0m \u001B[32m━━━━━━━━━━━━━━━━━━━━\u001B[0m\u001B[37m\u001B[0m \u001B[1m0s\u001B[0m 594us/step - accuracy: 0.8071 - loss: 0.4433 - val_accuracy: 0.7640 - val_loss: 0.5085\n",
      "Epoch 140/150\n",
      "\u001B[1m398/398\u001B[0m \u001B[32m━━━━━━━━━━━━━━━━━━━━\u001B[0m\u001B[37m\u001B[0m \u001B[1m0s\u001B[0m 602us/step - accuracy: 0.8033 - loss: 0.4320 - val_accuracy: 0.8175 - val_loss: 0.4743\n",
      "Epoch 141/150\n",
      "\u001B[1m398/398\u001B[0m \u001B[32m━━━━━━━━━━━━━━━━━━━━\u001B[0m\u001B[37m\u001B[0m \u001B[1m0s\u001B[0m 591us/step - accuracy: 0.7993 - loss: 0.4523 - val_accuracy: 0.8160 - val_loss: 0.4183\n",
      "Epoch 142/150\n",
      "\u001B[1m398/398\u001B[0m \u001B[32m━━━━━━━━━━━━━━━━━━━━\u001B[0m\u001B[37m\u001B[0m \u001B[1m0s\u001B[0m 603us/step - accuracy: 0.7992 - loss: 0.4538 - val_accuracy: 0.5210 - val_loss: 0.9473\n",
      "Epoch 143/150\n",
      "\u001B[1m398/398\u001B[0m \u001B[32m━━━━━━━━━━━━━━━━━━━━\u001B[0m\u001B[37m\u001B[0m \u001B[1m0s\u001B[0m 599us/step - accuracy: 0.7793 - loss: 0.4821 - val_accuracy: 0.7620 - val_loss: 0.4661\n",
      "Epoch 144/150\n",
      "\u001B[1m398/398\u001B[0m \u001B[32m━━━━━━━━━━━━━━━━━━━━\u001B[0m\u001B[37m\u001B[0m \u001B[1m0s\u001B[0m 599us/step - accuracy: 0.8091 - loss: 0.4250 - val_accuracy: 0.8190 - val_loss: 0.3947\n",
      "Epoch 145/150\n",
      "\u001B[1m398/398\u001B[0m \u001B[32m━━━━━━━━━━━━━━━━━━━━\u001B[0m\u001B[37m\u001B[0m \u001B[1m0s\u001B[0m 588us/step - accuracy: 0.8064 - loss: 0.4271 - val_accuracy: 0.8595 - val_loss: 0.3590\n",
      "Epoch 146/150\n",
      "\u001B[1m398/398\u001B[0m \u001B[32m━━━━━━━━━━━━━━━━━━━━\u001B[0m\u001B[37m\u001B[0m \u001B[1m0s\u001B[0m 595us/step - accuracy: 0.7976 - loss: 0.4382 - val_accuracy: 0.7410 - val_loss: 0.5094\n",
      "Epoch 147/150\n",
      "\u001B[1m398/398\u001B[0m \u001B[32m━━━━━━━━━━━━━━━━━━━━\u001B[0m\u001B[37m\u001B[0m \u001B[1m0s\u001B[0m 590us/step - accuracy: 0.8080 - loss: 0.4294 - val_accuracy: 0.8410 - val_loss: 0.4685\n",
      "Epoch 148/150\n",
      "\u001B[1m398/398\u001B[0m \u001B[32m━━━━━━━━━━━━━━━━━━━━\u001B[0m\u001B[37m\u001B[0m \u001B[1m0s\u001B[0m 594us/step - accuracy: 0.7987 - loss: 0.4534 - val_accuracy: 0.7260 - val_loss: 0.5913\n",
      "Epoch 149/150\n",
      "\u001B[1m398/398\u001B[0m \u001B[32m━━━━━━━━━━━━━━━━━━━━\u001B[0m\u001B[37m\u001B[0m \u001B[1m0s\u001B[0m 595us/step - accuracy: 0.8101 - loss: 0.4206 - val_accuracy: 0.7500 - val_loss: 0.4979\n",
      "Epoch 150/150\n",
      "\u001B[1m398/398\u001B[0m \u001B[32m━━━━━━━━━━━━━━━━━━━━\u001B[0m\u001B[37m\u001B[0m \u001B[1m0s\u001B[0m 598us/step - accuracy: 0.8041 - loss: 0.4481 - val_accuracy: 0.6890 - val_loss: 0.7335\n"
     ]
    }
   ],
   "execution_count": 305
  },
  {
   "metadata": {
    "ExecuteTime": {
     "end_time": "2024-12-17T15:38:41.231777Z",
     "start_time": "2024-12-17T15:38:41.216261Z"
    }
   },
   "cell_type": "code",
   "source": "model.save('model.h5')",
   "id": "4e4e5859c95d0af8",
   "outputs": [
    {
     "name": "stderr",
     "output_type": "stream",
     "text": [
      "WARNING:absl:You are saving your model as an HDF5 file via `model.save()` or `keras.saving.save_model(model)`. This file format is considered legacy. We recommend using instead the native Keras format, e.g. `model.save('my_model.keras')` or `keras.saving.save_model(model, 'my_model.keras')`. \n"
     ]
    }
   ],
   "execution_count": 306
  },
  {
   "metadata": {
    "ExecuteTime": {
     "end_time": "2024-12-17T15:38:45.338811Z",
     "start_time": "2024-12-17T15:38:45.335758Z"
    }
   },
   "cell_type": "code",
   "source": [
    "## Load Tensorboard Extension\n",
    "%load_ext tensorboard"
   ],
   "id": "d9a580cdfbe40684",
   "outputs": [
    {
     "name": "stdout",
     "output_type": "stream",
     "text": [
      "The tensorboard extension is already loaded. To reload it, use:\n",
      "  %reload_ext tensorboard\n"
     ]
    }
   ],
   "execution_count": 307
  },
  {
   "metadata": {
    "ExecuteTime": {
     "end_time": "2024-12-17T15:38:47.240728Z",
     "start_time": "2024-12-17T15:38:47.231604Z"
    }
   },
   "cell_type": "code",
   "source": "%tensorboard --logdir logs/fit",
   "id": "3b5aa0f95231b90f",
   "outputs": [
    {
     "data": {
      "text/plain": [
       "Reusing TensorBoard on port 6006 (pid 60287), started 0:24:30 ago. (Use '!kill 60287' to kill it.)"
      ]
     },
     "metadata": {},
     "output_type": "display_data"
    },
    {
     "data": {
      "text/plain": [
       "<IPython.core.display.HTML object>"
      ],
      "text/html": [
       "\n",
       "      <iframe id=\"tensorboard-frame-d357e9396913dd0d\" width=\"100%\" height=\"800\" frameborder=\"0\">\n",
       "      </iframe>\n",
       "      <script>\n",
       "        (function() {\n",
       "          const frame = document.getElementById(\"tensorboard-frame-d357e9396913dd0d\");\n",
       "          const url = new URL(\"/\", window.location);\n",
       "          const port = 6006;\n",
       "          if (port) {\n",
       "            url.port = port;\n",
       "          }\n",
       "          frame.src = url;\n",
       "        })();\n",
       "      </script>\n",
       "    "
      ]
     },
     "metadata": {},
     "output_type": "display_data"
    }
   ],
   "execution_count": 308
  }
 ],
 "metadata": {
  "kernelspec": {
   "display_name": "Python 3",
   "language": "python",
   "name": "python3"
  },
  "language_info": {
   "codemirror_mode": {
    "name": "ipython",
    "version": 2
   },
   "file_extension": ".py",
   "mimetype": "text/x-python",
   "name": "python",
   "nbconvert_exporter": "python",
   "pygments_lexer": "ipython2",
   "version": "2.7.6"
  }
 },
 "nbformat": 4,
 "nbformat_minor": 5
}
